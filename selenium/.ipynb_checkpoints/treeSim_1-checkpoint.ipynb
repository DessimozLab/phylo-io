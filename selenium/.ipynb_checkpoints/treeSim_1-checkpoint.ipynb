{
 "cells": [
  {
   "cell_type": "code",
   "execution_count": 2,
   "metadata": {
    "collapsed": false,
    "deletable": true,
    "editable": true
   },
   "outputs": [
    {
     "name": "stdout",
     "output_type": "stream",
     "text": [
      "#NEXUS\n",
      "Begin trees;\n",
      "tree PAUP_1 = (((((((T13,T4),T17),((T11,T1),T3)),(T15,T14)),(T18,T2)),((T7,T6),T8)),((((T12,T10),T20),(T19,T5)),(T16,T9)));\n",
      "tree PAUP_2 = ((((((((T17,T7),(T13,T4)),((T11,T1),T3)),(T15,T14)),(T18,T2)),((T8,T6),T10)),T20),(((T19,T5),T12),(T16,T9)));\n",
      "tree PAUP_3 = (((((((T9,T4),T13),((T11,T1),T3)),(T15,T14)),((T8,T6),T10)),T20),(((((T18,T2),(T17,T7)),T12),(T19,T5)),T16));\n",
      "End;\n",
      "\n"
     ]
    },
    {
     "data": {
      "text/plain": [
       "<dendropy.datamodel.treecollectionmodel.TreeList at 0x11091cbe0>"
      ]
     },
     "execution_count": 2,
     "metadata": {},
     "output_type": "execute_result"
    }
   ],
   "source": [
    "%reload_ext autoreload\n",
    "%autoreload 2\n",
    "%matplotlib inline\n",
    "import matplotlib\n",
    "import matplotlib.pyplot as plt\n",
    "import sys, subprocess, time, dendropy\n",
    "import numpy as np\n",
    "# from Naked.toolshed.shell import execute_js, muterun_js # reads js code \n",
    "\n",
    "bindir=\"/Users/sergsol/Desktop/Phylo.io_project/\"\n",
    "\n",
    "# here should be a loop to generate multiple trees with varying parameters \n",
    "def generate_spr_trees (n_leaves, n_trees, n_spr):\n",
    "    proc_run = subprocess.run([\"gf_generate_spr_trees\", str(n_leaves), str(n_trees), str(n_spr)],\n",
    "                              stdout=subprocess.PIPE, universal_newlines=True)\n",
    "    print(proc_run.stdout)\n",
    "    return dendropy.TreeList.get(data=proc_run.stdout, schema=\"nexus\")\n",
    "\n",
    "generate_spr_trees(20, 2, 3)\n",
    "\n",
    "\n",
    "\n",
    "#js output \n",
    "# response = muterun_js('treecompare.js')\n",
    "# if response.exitcode == 0:\n",
    "#   print(response.stdout)\n",
    "# else:\n",
    "#   sys.stderr.write(response.stderr)\n"
   ]
  },
  {
   "cell_type": "code",
   "execution_count": null,
   "metadata": {
    "collapsed": true,
    "deletable": true,
    "editable": true
   },
   "outputs": [],
   "source": []
  }
 ],
 "metadata": {
  "kernelspec": {
   "display_name": "Python 3",
   "language": "python",
   "name": "python3"
  },
  "language_info": {
   "codemirror_mode": {
    "name": "ipython",
    "version": 3
   },
   "file_extension": ".py",
   "mimetype": "text/x-python",
   "name": "python",
   "nbconvert_exporter": "python",
   "pygments_lexer": "ipython3",
   "version": "3.5.1"
  }
 },
 "nbformat": 4,
 "nbformat_minor": 2
}
