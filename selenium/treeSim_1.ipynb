{
 "cells": [
  {
   "cell_type": "code",
   "execution_count": 6,
   "metadata": {
    "collapsed": false,
    "deletable": true,
    "editable": true
   },
   "outputs": [
    {
     "name": "stdout",
     "output_type": "stream",
     "text": [
      "#NEXUS\n",
      "Begin trees;\n",
      "tree PAUP_1 = ((((((((((((((T181,T105),T86),(T173,T147)),(T100,T20)),T154),((T175,T170),(T142,T31))),((((((T160,T109),T49),((T73,T12),T72)),T164),((T53,T18),T169)),T122)),(((((((T58,T1),T29),T92),((T140,T9),T150)),((((T37,T15),T198),(T129,T112)),T74)),T75),(((T199,T195),(T80,T54)),((T76,T46),T107)))),(((((T161,T126),(T134,T32)),((T144,T11),(T57,T47))),(((T52,T13),T25),(T157,T85))),((((T178,T62),(T89,T79)),T118),(((T186,T104),T59),T159)))),(((T155,T83),T60),T44)),((((((T67,T43),T110),T23),(T163,T141)),((T128,T103),T5)),(((T108,T30),T22),T97))),(((((((((((T193,T17),T189),T96),T131),T19),T48),(T162,T64)),(T121,T114)),(T50,T27)),((((((T185,T39),T94),T151),(T179,T36)),T130),((T116,T21),T95))),((((((((T191,T51),T40),T88),(T184,T115)),(T137,T41)),(T132,T123)),(((T188,T3),T87),(T196,T33))),((T192,T143),T99)))),(((((((T200,T98),T82),((T101,T8),T152)),(T158,T68)),(((T77,T63),T120),T177)),(((T197,T16),(T180,T26)),(T174,T146))),T61)),(((((((((T187,T7),T156),(T90,T65)),(((T165,T24),T136),T133)),((((T168,T28),T70),((T56,T34),T167)),(T139,T69))),((((((T182,T91),T117),((T102,T35),T14)),T4),(((T153,T111),T166),((T145,T55),T125))),(((T45,T38),T127),T138))),((T113,T6),T148)),T149),(((((((((T124,T10),T71),T81),(T190,T42)),((T172,T2),T176)),T66),(((T119,T106),T84),T93)),(T194,T183)),((T171,T78),T135))));\n",
      "tree PAUP_2 = (((((((((((((((((((T191,T51),T40),T88),(T184,T115)),((T132,T123),T120)),T109),T160),T49),(((((T67,T43),T110),(T73,T12)),((T178,T62),(T89,T79))),T72)),T164),((T53,T18),T169)),T122),((((((((((T37,T15),T198),T105),T181),T86),(T173,T147)),((((T187,T7),T156),((T101,T8),T152)),T196)),(T100,T20)),T154),((((T190,T42),T175),((T121,T114),T170)),(T142,T31)))),(((((((T161,T126),T151),(T134,T32)),T69),((T144,T11),(T57,T47))),((T157,T85),(T25,T13))),((((((T29,T1),T104),T186),T59),(T183,T159)),T118))),(((T155,T83),T60),T44)),((((T163,T141),T23),((T128,T103),T5)),(((T193,T17),T97),T22))),((((((((T185,T39),T94),(T179,T36)),(T130,T56)),(T137,T41)),((((((T140,T9),T150),(T108,T30)),T21),T116),T95)),(((((((T189,T96),T131),T92),T19),T48),(T162,T64)),(T50,T27))),((((T192,T143),T52),T99),(((T188,T3),T87),T33)))),(((((((T200,T98),T82),T112),(T158,T68)),((T77,T63),T177)),(((T197,T16),(T180,T26)),(((T148,T6),T146),T174))),T61)),(((((((((((((T81,T24),T199),T195),(((T165,T136),T80),T54)),((T76,T46),T107)),((T129,T74),T75)),(((T113,T111),T153),T166)),((T145,T55),T125)),((((T182,T91),(T117,T58)),((T102,T35),T14)),T4)),(((T45,T38),T127),T138)),(((((T168,T28),T70),(T167,T34)),T139),((T90,T65),T133))),T149),(((((((T172,T2),T176),((T124,T10),T71)),T66),(((T119,T106),T84),T93)),T194),((T171,T78),T135))));\n",
      "tree PAUP_3 = (((((((((((((((((((((T200,T98),T82),T112),(T158,T68)),T38),T146),T147),T173),(((T105,T15),T181),T86)),(((((T187,T62),T7),T156),(T152,T8)),T196)),(T100,T20)),T154),((((T190,T101),T42),T175),(T142,T31))),T122),(((((T29,T1),T104),T59),T183),T118)),(((T155,T83),T60),T44)),T87),(((((((((((T198,T144),T11),(T57,T47)),T186),((((T161,T126),T151),(T134,T32)),T69)),((((((((((T53,T18),T77),T169),(T164,T49)),T188),T123),T132),T85),T157),T25)),T163),T141),T23),((T128,T103),T5)),(((T193,T17),T97),T22))),(((((((((T140,T9),T150),(T108,T30)),(T178,T21)),(T162,T64)),T116),(((((((T43,T4),T67),T110),(T73,T12)),(T89,T79)),T72),T95)),(((((T185,T39),T94),(T179,T36)),T159),(T130,T56))),(((((T192,T143),T52),T120),((T160,T109),T99)),T33))),((((((((((T191,T51),T40),T88),(T184,T115)),T63),T177),T171),T3),(((T197,T16),(T180,T26)),((T148,T6),T174))),T61)),((((((((((((((((((T189,T96),T131),T92),T19),T48),(T137,T41)),(((T182,T91),(T117,T58)),((T102,T35),T14))),(T50,T27)),(T129,T74)),T75),(((((T81,T24),T199),T195),(((T165,T136),T80),T54)),((T76,T46),T107))),(((T113,T111),T153),T166)),((T145,T55),T125)),((T138,T13),(T127,T45))),(((((T168,T28),T70),(T167,T34)),T139),((T90,T65),T133))),T37),(((T121,T114),T170),T149)),((((((((T124,T10),T71),T176),(T172,T2)),T66),(((T119,T106),T84),T93)),T194),(T135,T78))));\n",
      "End;\n",
      "\n"
     ]
    },
    {
     "data": {
      "text/plain": [
       "<dendropy.datamodel.treecollectionmodel.TreeList at 0x1105b0438>"
      ]
     },
     "execution_count": 6,
     "metadata": {},
     "output_type": "execute_result"
    }
   ],
   "source": [
    "%reload_ext autoreload\n",
    "%autoreload 2\n",
    "%matplotlib inline\n",
    "import matplotlib\n",
    "import matplotlib.pyplot as plt\n",
    "import sys, subprocess, time, dendropy\n",
    "import numpy as np\n",
    "# from Naked.toolshed.shell import execute_js, muterun_js # reads js code \n",
    "\n",
    "bindir=\"/Users/sergsol/Desktop/Phylo.io_project/\"\n",
    "\n",
    "# here should be a loop to generate multiple trees with varying parameters \n",
    "def generate_spr_trees (n_leaves, n_trees, n_spr):\n",
    "    proc_run = subprocess.run([\"gf_generate_spr_trees\", str(n_leaves), str(n_trees), str(n_spr)],\n",
    "                              stdout=subprocess.PIPE, universal_newlines=True)\n",
    "    print(proc_run.stdout)\n",
    "    return dendropy.TreeList.get(data=proc_run.stdout, schema=\"nexus\")\n",
    "\n",
    "generate_spr_trees(200, 2, 30)\n",
    "\n",
    "\n",
    "\n",
    "#js output \n",
    "# response = muterun_js('treecompare.js')\n",
    "# if response.exitcode == 0:\n",
    "#   print(response.stdout)\n",
    "# else:\n",
    "#   sys.stderr.write(response.stderr)\n"
   ]
  },
  {
   "cell_type": "code",
   "execution_count": null,
   "metadata": {
    "collapsed": true,
    "deletable": true,
    "editable": true
   },
   "outputs": [],
   "source": []
  }
 ],
 "metadata": {
  "kernelspec": {
   "display_name": "Python 3",
   "language": "python",
   "name": "python3"
  },
  "language_info": {
   "codemirror_mode": {
    "name": "ipython",
    "version": 3
   },
   "file_extension": ".py",
   "mimetype": "text/x-python",
   "name": "python",
   "nbconvert_exporter": "python",
   "pygments_lexer": "ipython3",
   "version": "3.5.1"
  }
 },
 "nbformat": 4,
 "nbformat_minor": 2
}
