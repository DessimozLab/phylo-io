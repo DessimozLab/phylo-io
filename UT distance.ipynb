{
 "cells": [
  {
   "cell_type": "code",
   "execution_count": 32,
   "id": "1fd4aded",
   "metadata": {},
   "outputs": [],
   "source": [
    "import dendropy\n",
    "from dendropy.simulate import treesim\n",
    "from dendropy.calculate import treecompare\n",
    "import random"
   ]
  },
  {
   "cell_type": "code",
   "execution_count": 33,
   "id": "c292c4d0",
   "metadata": {},
   "outputs": [],
   "source": [
    "def print_generation(n):\n",
    "    familly['F{}L_filtered'.format(n)].print_plot()\n",
    "    print(familly['F{}L_mutation'.format(n)])\n",
    "\n",
    "    familly['F{}R_filtered'.format(n)].print_plot()\n",
    "    print(familly['F{}R_mutation'.format(n)])\n",
    "    print(familly['F{}_URF'.format(n)])\n",
    "\n",
    "def chunks(lst, n):\n",
    "    for i in range(0, len(lst), n):\n",
    "        yield lst[i:i + n]\n",
    "\n",
    "def swaaap(fam):\n",
    "    swapy = []\n",
    "    for n in fam.postorder_internal_node_iter():\n",
    "    \n",
    "        if (random.random() > 0.9 and n._parent_node and n._child_nodes ):\n",
    "            swapy.append(n)\n",
    "            \n",
    "    if len(swapy) >= 2 :\n",
    "    \n",
    "        if len(swapy)%2 == 1:\n",
    "            swapy.pop()\n",
    "                \n",
    "    \n",
    "        for pair in chunks(swapy, 2):\n",
    "            \n",
    "            s0 = pair[0].extract_subtree()\n",
    "            p0 = pair[0]._parent_node\n",
    "\n",
    "            s1 = pair[1].extract_subtree()\n",
    "            p1 = pair[1]._parent_node\n",
    "\n",
    "            p0.add_child(s1)\n",
    "            p1.add_child(s0)\n",
    "            \n",
    "            p0.remove_child(pair[0])\n",
    "            p1.remove_child(pair[1])\n",
    "            \n",
    "    \n",
    "    for n in fam.leaf_node_iter():\n",
    "        if (n.taxon == None):\n",
    "            n._parent_node.remove_child(n)\n",
    "            "
   ]
  },
  {
   "cell_type": "code",
   "execution_count": 35,
   "id": "3501f50f",
   "metadata": {},
   "outputs": [],
   "source": [
    "forest = []\n",
    "size_forest = 200\n",
    "n_generations = 4\n",
    "\n",
    "for e in range(size_forest):\n",
    "    \n",
    "    to_store = {}\n",
    "    \n",
    "        \n",
    "    familly = {}\n",
    "    familly['tree_size'] = e+4\n",
    "    to_store['tree_size'] = familly['tree_size']\n",
    "    familly['tns'] = dendropy.TaxonNamespace(['T_{}'.format(i) for i in range(1,int(e * 1.5))])\n",
    "\n",
    "    # ROOT PAIR\n",
    "    familly['ROOT'] = treesim.birth_death_tree(1, 0.1, taxon_namespace=familly['tns'], num_extant_tips=familly['tree_size'])\n",
    "    \n",
    "    # RANDOM FILTER LEAF\n",
    "    familly['L'] = dendropy.Tree(familly['ROOT'])\n",
    "    familly['L'].filter_leaf_nodes(lambda n: random.random() < 0.8, recursive=False, update_bipartitions=True, suppress_unifurcations=True)\n",
    "    for e in familly['L'].postorder_edge_iter():\n",
    "        if random.random() > 0.7:\n",
    "            e.length = e.length *1.5\n",
    "        \n",
    "    familly['R'] = dendropy.Tree(familly['ROOT'])\n",
    "    familly['R'].filter_leaf_nodes(lambda n: random.random() < 0.8, recursive=False, update_bipartitions=True, suppress_unifurcations=True)\n",
    "    for e in familly['R'].postorder_edge_iter():\n",
    "        if random.random() > 0.7:\n",
    "            e.length = e.length *1.5\n",
    "\n",
    "    # RANDOM SWAP NODE\n",
    "    if familly['tree_size'] > 30:\n",
    "        swaaap(familly['R'])\n",
    "        swaaap(familly['L'])\n",
    "    \n",
    "    to_store['L'] = familly['L'].as_string(schema='newick')\n",
    "    to_store['R'] = familly['R'].as_string(schema='newick')\n",
    "    \n",
    "    familly['common'] = set(n.taxon for n in familly['L'].leaf_node_iter()) & set(n.taxon for n in familly['R'].leaf_node_iter())\n",
    "    familly['common'].discard(None)\n",
    "    familly['common'].discard('')\n",
    "    \n",
    "    familly['L_filter'] = familly['L'].extract_tree(node_filter_fn=lambda n: n.taxon in familly['common'])\n",
    "    familly['R_filter'] = familly['R'].extract_tree(node_filter_fn=lambda n: n.taxon in familly['common'])\n",
    "    \n",
    "    # CLADE\n",
    "    familly['R_filter'].is_rooted = True\n",
    "    familly['L_filter'].is_rooted = True\n",
    "    to_store['root_clade'] = treecompare.symmetric_difference( familly['L_filter'], familly['R_filter'])\n",
    "\n",
    "    \n",
    "    to_store['L_filter'] = familly['L_filter'].as_string(schema='newick')\n",
    "    to_store['R_filter'] = familly['R_filter'].as_string(schema='newick')\n",
    "    \n",
    "    \n",
    "   \n",
    "    # RF + EUC\n",
    "    familly['R_filter'].is_rooted = False\n",
    "    familly['L_filter'].is_rooted = False\n",
    "        \n",
    "    to_store['root_URF'] = treecompare.symmetric_difference( familly['L_filter'], familly['R_filter'])\n",
    "    to_store['root_WRF'] = treecompare.weighted_robinson_foulds_distance(familly['L_filter'], familly['R_filter'])\n",
    "            \n",
    "    \n",
    "    parent_L = familly['R_filter']\n",
    "    parent_R = familly['L_filter']\n",
    "    for F in range(1,n_generations):\n",
    "        \n",
    "        def build_child(label_string, parent_, force= False):\n",
    "            \n",
    "            mutate = False\n",
    "            \n",
    "            familly[label_string] = parent_.extract_tree()\n",
    "\n",
    "            if force or random.random() > 0.5:\n",
    "                n = random.choice(list(familly[label_string].preorder_node_iter())[1:])\n",
    "                familly[label_string].reroot_at_edge(n.edge,length1=0.5 * n.edge_length, \n",
    "length2=0.5 * n.edge_length)\n",
    "                to_store[label_string + '_mutation']  = [x.taxon.label for x in n.leaf_nodes()]\n",
    "                mutate = True\n",
    "                \n",
    "\n",
    "            else:\n",
    "                to_store[label_string + '_mutation']  = None\n",
    "                \n",
    "            \n",
    "            familly[label_string + '_filtered'] = familly[label_string].extract_tree(node_filter_fn=lambda n: n.taxon in familly['common'])\n",
    "           \n",
    "            return mutate\n",
    "        \n",
    "        \n",
    "        rerooted = build_child('F{}L'.format(F),parent_L )\n",
    "        if (rerooted):\n",
    "            build_child('F{}R'.format(F), parent_R)\n",
    "        else:\n",
    "            build_child('F{}R'.format(F), parent_R, force = True)\n",
    "            \n",
    "        familly['F{}L_filtered'.format(F)].is_rooted = True\n",
    "        familly['F{}R_filtered'.format(F)].is_rooted = True\n",
    "        \n",
    "        to_store['F{}_clade'.format(F)] = treecompare.symmetric_difference( familly['F{}L_filtered'.format(F)], familly['F{}R_filtered'.format(F)])\n",
    "\n",
    "         \n",
    "        familly['F{}L_filtered'.format(F)].is_rooted = False\n",
    "        familly['F{}R_filtered'.format(F)].is_rooted = False\n",
    "            \n",
    "        to_store['F{}_URF'.format(F)] = treecompare.symmetric_difference(familly['F{}L_filtered'.format(F)], familly['F{}R_filtered'.format(F)])\n",
    "        to_store['F{}_WRF'.format(F)] = treecompare.weighted_robinson_foulds_distance(familly['F{}L_filtered'.format(F)], familly['F{}R_filtered'.format(F)])\n",
    "                \n",
    "        parent_L = familly['F{}L'.format(F)]\n",
    "        parent_R = familly['F{}R'.format(F)]\n",
    "    \n",
    "    \n",
    "    \n",
    "\n",
    "    forest.append(to_store)\n",
    "        \n",
    "\n"
   ]
  },
  {
   "cell_type": "code",
   "execution_count": 36,
   "id": "0df34c4d",
   "metadata": {},
   "outputs": [],
   "source": [
    "import json\n",
    "\n",
    "with open('distance_testing.json', 'w') as fp:\n",
    "    json.dump(forest, fp)"
   ]
  },
  {
   "cell_type": "raw",
   "id": "6b602cb0",
   "metadata": {},
   "source": [
    "# NEXT GENERATIONS\n",
    "    \n",
    "    parent_L = familly['L']\n",
    "    parent_R = familly['R']\n",
    "    for F in range(1,n_generations):\n",
    "        \n",
    "        def build_child(label_string, parent_, force= False):\n",
    "            \n",
    "            mutate = False\n",
    "            \n",
    "            familly[label_string] = parent_.extract_tree()\n",
    "\n",
    "            if force or random.random() > 0.5:\n",
    "                n = random.choice(list(familly[label_string].preorder_node_iter())[1:])\n",
    "                familly[label_string].reroot_at_edge(n.edge,length1=0.5 * n.edge_length, \n",
    "length2=0.5 * n.edge_length)\n",
    "                to_store[label_string + '_mutation']  = [x.taxon.label for x in n.leaf_nodes()]\n",
    "                mutate = True\n",
    "                \n",
    "\n",
    "            else:\n",
    "                to_store[label_string + '_mutation']  = None\n",
    "                \n",
    "            \n",
    "            familly[label_string + '_filtered'] = familly[label_string].extract_tree(node_filter_fn=lambda n: n.taxon in familly['common'])\n",
    "           \n",
    "            return mutate\n",
    "        \n",
    "        \n",
    "        rerooted = build_child('F{}L'.format(F),parent_L )\n",
    "        if (rerooted):\n",
    "            build_child('F{}R'.format(F), parent_R)\n",
    "        else:\n",
    "            build_child('F{}R'.format(F), parent_R, force = True)\n",
    "            \n",
    "        familly['F{}L_filtered'.format(F)].is_rooted = True\n",
    "        familly['F{}R_filtered'.format(F)].is_rooted = True\n",
    "        \n",
    "        to_store['F{}_clade'.format(F)] = treecompare.symmetric_difference( familly['F{}L_filtered'.format(F)], familly['F{}R_filtered'.format(F)])\n",
    "\n",
    "         \n",
    "        familly['F{}L_filtered'.format(F)].is_rooted = False\n",
    "        familly['F{}R_filtered'.format(F)].is_rooted = False\n",
    "            \n",
    "        to_store['F{}_URF'.format(F)] = treecompare.symmetric_difference(familly['F{}L_filtered'.format(F)], familly['F{}R_filtered'.format(F)])\n",
    "        to_store['F{}_WRF'.format(F)] = treecompare.weighted_robinson_foulds_distance(familly['F{}L_filtered'.format(F)], familly['F{}R_filtered'.format(F)])\n",
    "                \n",
    "        parent_L = familly['F{}L'.format(F)]\n",
    "        parent_R = familly['F{}R'.format(F)]"
   ]
  },
  {
   "cell_type": "code",
   "execution_count": null,
   "id": "7a696d08",
   "metadata": {},
   "outputs": [],
   "source": []
  },
  {
   "cell_type": "code",
   "execution_count": null,
   "id": "fd80b1fa",
   "metadata": {},
   "outputs": [],
   "source": []
  },
  {
   "cell_type": "code",
   "execution_count": null,
   "id": "09d5ea83",
   "metadata": {},
   "outputs": [],
   "source": []
  },
  {
   "cell_type": "code",
   "execution_count": null,
   "id": "9e2a1ff2",
   "metadata": {},
   "outputs": [],
   "source": []
  },
  {
   "cell_type": "code",
   "execution_count": null,
   "id": "c844bba9",
   "metadata": {},
   "outputs": [],
   "source": []
  },
  {
   "cell_type": "code",
   "execution_count": null,
   "id": "b29487bb",
   "metadata": {},
   "outputs": [],
   "source": []
  },
  {
   "cell_type": "code",
   "execution_count": null,
   "id": "557a68e9",
   "metadata": {},
   "outputs": [],
   "source": []
  },
  {
   "cell_type": "code",
   "execution_count": null,
   "id": "256f6dd7",
   "metadata": {},
   "outputs": [],
   "source": []
  },
  {
   "cell_type": "code",
   "execution_count": 633,
   "id": "f5927d77",
   "metadata": {},
   "outputs": [
    {
     "name": "stdout",
     "output_type": "stream",
     "text": [
      "[<Taxon 0x143c9bdc0 'T_4'>, <Taxon 0x11694fd30 'T_47'>, <Taxon 0x141e7c2e0 'T_36'>, <Taxon 0x116623b20 'T_6'>, <Taxon 0x115e6b130 'T_45'>, <Taxon 0x140d24520 'T_50'>, <Taxon 0x1444a7070 'T_17'>, <Taxon 0x1444a7250 'T_44'>, <Taxon 0x1444a7310 'T_26'>, <Taxon 0x1444a75b0 'T_13'>, <Taxon 0x1444a7670 'T_34'>, <Taxon 0x1444a7730 'T_37'>, <Taxon 0x1444a7850 'T_39'>, <Taxon 0x1444a7970 'T_21'>, <Taxon 0x1444a7a90 'T_46'>, <Taxon 0x1444a7b50 'T_28'>, <Taxon 0x1444a7c10 'T_16'>, <Taxon 0x1444a7d90 'T_27'>, <Taxon 0x1444a7e50 'T_11'>, <Taxon 0x1444a7f10 'T_35'>, <Taxon 0x1444821c0 'T_2'>, <Taxon 0x144482940 'T_48'>]\n",
      "[&R] ((('T_4':0.06492961326792783,'T_47':0.06492961326792783):0.9614829204370432,(('T_36':0.16250371980926595,('T_6':0.06661375897490657,'T_45':0.06661375897490657):0.09588996083435938):0.6863426979933948,('T_50':0.5670205301446998,'T_17':0.5670205301446998):0.28182588765796085):1.0576218938454944):1.384148500889453,((('T_44':0.8988888623172768,'T_26':0.8988888623172768):0.7713429257037883,((((('T_13':0.08975198599145691,'T_34':0.08975198599145691):0.24696913487791797,'T_37':0.3367211208693749):0.3720001383348853,('T_39':0.3433163659234744,('T_21':0.23560884839849305,('T_46':0.16664010092924972,'T_28':0.16664010092924972):0.0689687474692433):0.10770751752498131):0.36540489328078585):0.4515355325227239,'T_16':1.160256791726984):0.2858539208912031,(('T_27':0,'T_11':0):0.11677650578757308,'T_35':0.11677650578757308):0.1153787824108384):0.22412107540287796):0.23623652362708988,('T_2':0.3369100382283633,'T_48':0.3369100382283633):0.6895024954766077):0.504092722946269):1.350096917108547;\n",
      "\n",
      "[&R] (((('T_2':0.3369100382283633,'T_48':0.3369100382283633):0.6895024954766077,'T_4':1.026412533704971):1.384148500889453,((('T_36':0.16250371980926595,('T_6':0.06661375897490657,'T_45':0.06661375897490657):0.09588996083435938):0.6863426979933948,('T_27':0,'T_11':0):0.23215528819841147):1.0576218938454944,(('T_44':0.8988888623172768,('T_26':0.6174961701784749,'T_42':0.6174961701784749):0.28139269213880186):0.7713429257037883,(((('T_18':0.5645831246350288,'T_23':0.5645831246350288):0.26049520008241356,('T_31':0.5350993092802666,(((('T_20':0.08975198599145691,'T_34':0.08975198599145691):0.24696913487791797,'T_37':0.3367211208693749):0.3720001383348853,('T_39':0.3433163659234744,(('T_21':0.08499901356065424,'T_14':0.08499901356065424):0.1506098348378388,('T_46':0.16664010092924972,'T_28':0.16664010092924972):0.0689687474692433):0.10770751752498131):0.36540489328078585):0.4515355325227239,'T_16':1.160256791726984):0.2500009146037837):0.28997901543717575):0.5559530917455815,'T_10':1.3810314164630237):0.06507929615516336,('T_19':1.4102577063307673,('T_3':0.43767165878006875,(('T_32':0.07576773890290552,'T_12':0.07576773890290552):0.15638754929550597,('T_50':0.5670205301446998,('T_7':0.44738672492648013,('T_25':0.0042022314791134805,'T_17':0.0042022314791134805):0.44318449344736666):0.11963380521821962):0.28182588765796085):0.2055163705816572):0.0974276505001979):0.03585300628741939):0.22412107540287796):0.23623652362708988):0.504092722946269):0.14014484720921047,'T_24':2.550705881803635):1.2099520698993367;\n",
      "\n",
      "[&R] (('T_4':1.026412533704971,(('T_36':0.16250371980926595,('T_6':0.06661375897490657,'T_45':0.06661375897490657):0.09588996083435938):0.6863426979933948,('T_50':0.5670205301446998,'T_17':0.5670205301446998):0.28182588765796085):1.0576218938454944):1.384148500889453,((('T_44':0.8988888623172768,'T_26':0.8988888623172768):0.7713429257037883,(((('T_34':0.3367211208693749,'T_37':0.3367211208693749):0.3720001383348853,('T_39':0.3433163659234744,('T_21':0.23560884839849305,('T_46':0.16664010092924972,'T_28':0.16664010092924972):0.0689687474692433):0.10770751752498131):0.36540489328078585):0.4515355325227239,'T_16':1.160256791726984):0.2858539208912031,('T_27':0,'T_11':0):0.23215528819841147):0.22412107540287796):0.23623652362708988,('T_2':0.3369100382283633,'T_48':0.3369100382283633):0.6895024954766077):0.504092722946269):1.350096917108547;\n",
      "\n",
      "[&R] ((('T_2':0.3369100382283633,'T_48':0.3369100382283633):0.6895024954766077,'T_4':1.026412533704971):1.384148500889453,((('T_36':0.16250371980926595,('T_6':0.06661375897490657,'T_45':0.06661375897490657):0.09588996083435938):0.6863426979933948,('T_27':0,'T_11':0):0.23215528819841147):1.0576218938454944,(('T_44':0.8988888623172768,'T_26':0.8988888623172768):0.7713429257037883,(((('T_34':0.3367211208693749,'T_37':0.3367211208693749):0.3720001383348853,('T_39':0.3433163659234744,('T_21':0.23560884839849305,('T_46':0.16664010092924972,'T_28':0.16664010092924972):0.0689687474692433):0.10770751752498131):0.36540489328078585):0.4515355325227239,'T_16':1.160256791726984):1.1610123179417045,('T_50':0.5670205301446998,'T_17':0.5670205301446998):0.6206229150272353):0.22412107540287796):0.23623652362708988):0.504092722946269):1.350096917108547;\n",
      "\n"
     ]
    }
   ],
   "source": [
    "n = 35\n",
    "t1 = dendropy.Tree.get_from_string(forest[n]['L'], schema=\"newick\", rooting=\"default-rooted\")\n",
    "\n",
    "\n",
    "print([ e.taxon for e in list(t1.leaf_node_iter()) ] )\n",
    "\n",
    "print(forest[n]['L'])\n",
    "print(forest[n]['R'])\n",
    "\n",
    "\n",
    "\n",
    "print(forest[n]['L_filter'])\n",
    "\n",
    "\n",
    "\n",
    "\n",
    "\n",
    "\n",
    "\n",
    "print(forest[n]['R_filter'])\n",
    "\n",
    "\n",
    "\n"
   ]
  },
  {
   "cell_type": "code",
   "execution_count": 15,
   "id": "cf0f25f4",
   "metadata": {},
   "outputs": [
    {
     "name": "stdout",
     "output_type": "stream",
     "text": [
      "['T4']\n",
      "['T2']\n",
      "['T3']\n",
      "None\n",
      "['T_2']\n",
      "['T_1']\n",
      "['T1']\n",
      "['T_6']\n",
      "None\n",
      "None\n",
      "None\n",
      "['T_14', 'T_3', 'T_10', 'T_6']\n",
      "None\n",
      "None\n",
      "['T_9']\n",
      "None\n",
      "None\n",
      "None\n",
      "None\n",
      "['T_15']\n",
      "None\n",
      "None\n",
      "None\n",
      "None\n",
      "None\n",
      "['T_32']\n",
      "['T_2']\n",
      "['T_17', 'T_36']\n",
      "['T_13']\n",
      "['T_19', 'T_32', 'T_37', 'T_17', 'T_20', 'T_2']\n",
      "None\n",
      "None\n",
      "None\n",
      "['T_11', 'T_40', 'T_9', 'T_42', 'T_20', 'T_3', 'T_17', 'T_16']\n",
      "None\n",
      "['T_8', 'T_23', 'T_22', 'T_32', 'T_41', 'T_45', 'T_42']\n",
      "None\n",
      "None\n",
      "['T_31']\n",
      "['T_24', 'T_17']\n",
      "None\n",
      "None\n",
      "None\n",
      "None\n",
      "None\n",
      "['T_64', 'T_52', 'T_34', 'T_4']\n",
      "['T_19', 'T_67', 'T_35', 'T_18', 'T_57', 'T_46']\n",
      "None\n",
      "None\n",
      "None\n",
      "None\n",
      "['T_3']\n",
      "['T_19']\n",
      "['T_10', 'T_39', 'T_71']\n",
      "['T_20', 'T_73', 'T_79', 'T_36']\n",
      "['T_64']\n",
      "['T_23', 'T_14', 'T_28', 'T_53', 'T_49']\n",
      "None\n",
      "['T_43']\n",
      "['T_46']\n",
      "None\n",
      "None\n",
      "['T_11']\n",
      "None\n",
      "['T_27', 'T_51']\n",
      "['T_62']\n",
      "None\n",
      "None\n",
      "None\n",
      "['T_20']\n",
      "None\n",
      "['T_32']\n",
      "['T_35', 'T_67', 'T_49', 'T_6', 'T_22', 'T_77', 'T_7', 'T_105', 'T_4', 'T_83', 'T_39', 'T_2', 'T_18']\n",
      "None\n",
      "None\n",
      "['T_19', 'T_66', 'T_101']\n",
      "['T_7']\n",
      "['T_25']\n",
      "['T_5']\n",
      "['T_88']\n",
      "None\n",
      "None\n",
      "['T_116']\n",
      "None\n",
      "None\n",
      "None\n",
      "None\n",
      "['T_17']\n",
      "['T_50', 'T_86', 'T_98']\n",
      "['T_71', 'T_121', 'T_131', 'T_38', 'T_87', 'T_124', 'T_75', 'T_99', 'T_29', 'T_82', 'T_20', 'T_11', 'T_43', 'T_37', 'T_101']\n",
      "None\n",
      "['T_30']\n",
      "['T_67', 'T_26']\n",
      "None\n",
      "['T_40', 'T_37']\n",
      "['T_28']\n",
      "['T_55']\n",
      "None\n",
      "['T_27']\n",
      "None\n",
      "['T_107']\n",
      "['T_78', 'T_37', 'T_82', 'T_67', 'T_38', 'T_21']\n",
      "['T_5', 'T_42', 'T_88', 'T_56', 'T_131', 'T_148', 'T_86', 'T_45', 'T_24', 'T_35']\n",
      "None\n",
      "['T_146']\n",
      "['T_10', 'T_3', 'T_19', 'T_29', 'T_104', 'T_68']\n",
      "['T_91']\n",
      "None\n",
      "None\n",
      "['T_13']\n",
      "['T_108', 'T_32']\n",
      "None\n",
      "['T_108']\n",
      "['T_3']\n",
      "['T_9', 'T_88']\n",
      "None\n",
      "['T_15']\n",
      "['T_119', 'T_155', 'T_75', 'T_86', 'T_43', 'T_99', 'T_11']\n",
      "['T_12']\n",
      "['T_32']\n",
      "None\n",
      "None\n",
      "['T_71']\n",
      "['T_66']\n",
      "['T_95', 'T_27', 'T_122']\n",
      "None\n",
      "['T_42']\n",
      "['T_143']\n",
      "None\n",
      "['T_80']\n",
      "None\n",
      "['T_80']\n",
      "None\n",
      "None\n",
      "['T_181']\n",
      "None\n",
      "['T_45', 'T_137', 'T_148', 'T_20']\n",
      "None\n",
      "['T_44', 'T_87', 'T_179', 'T_73', 'T_186', 'T_190']\n",
      "['T_202']\n",
      "None\n",
      "None\n",
      "None\n",
      "['T_131', 'T_181', 'T_81']\n",
      "None\n",
      "['T_56', 'T_109']\n",
      "['T_177']\n",
      "['T_197']\n",
      "None\n",
      "['T_63', 'T_134', 'T_108', 'T_116', 'T_129', 'T_124', 'T_137', 'T_139', 'T_61', 'T_131', 'T_151', 'T_203', 'T_114']\n",
      "['T_159']\n",
      "['T_224']\n",
      "None\n",
      "None\n",
      "None\n",
      "None\n",
      "None\n",
      "['T_10', 'T_56']\n",
      "['T_59']\n",
      "None\n",
      "['T_4', 'T_105']\n",
      "None\n",
      "['T_172']\n",
      "['T_207', 'T_193', 'T_61']\n",
      "None\n",
      "['T_100', 'T_71']\n",
      "None\n",
      "None\n",
      "None\n",
      "['T_158']\n",
      "None\n",
      "['T_158', 'T_112', 'T_123']\n",
      "['T_75', 'T_227', 'T_203', 'T_32', 'T_113', 'T_14', 'T_112', 'T_180', 'T_225', 'T_55', 'T_22', 'T_19', 'T_7', 'T_13', 'T_168', 'T_17', 'T_16', 'T_15', 'T_249', 'T_171', 'T_251', 'T_133', 'T_34', 'T_87', 'T_49', 'T_121', 'T_82', 'T_217', 'T_42', 'T_73', 'T_40', 'T_239', 'T_60', 'T_89', 'T_85', 'T_183', 'T_23', 'T_153', 'T_99', 'T_90', 'T_174', 'T_77', 'T_36', 'T_56', 'T_178', 'T_102', 'T_38', 'T_232', 'T_71', 'T_206', 'T_37', 'T_250', 'T_83', 'T_48', 'T_80', 'T_156']\n",
      "None\n",
      "['T_45', 'T_201', 'T_27', 'T_98', 'T_112', 'T_218', 'T_53', 'T_115']\n",
      "['T_140']\n",
      "None\n",
      "['T_93', 'T_242', 'T_64', 'T_47', 'T_105', 'T_230', 'T_249', 'T_155', 'T_17', 'T_103', 'T_233', 'T_198', 'T_56', 'T_46', 'T_229', 'T_1', 'T_227', 'T_81', 'T_171', 'T_110', 'T_76', 'T_176', 'T_191', 'T_111', 'T_257', 'T_222', 'T_5', 'T_129']\n",
      "None\n",
      "['T_208']\n",
      "None\n",
      "['T_109']\n",
      "None\n",
      "['T_62']\n",
      "None\n",
      "['T_125', 'T_229', 'T_48', 'T_133', 'T_47', 'T_190', 'T_268', 'T_174', 'T_110']\n",
      "['T_174', 'T_87']\n",
      "None\n",
      "None\n",
      "None\n",
      "None\n",
      "None\n",
      "['T_141']\n",
      "['T_181']\n",
      "['T_253']\n",
      "None\n",
      "None\n",
      "['T_108']\n",
      "None\n",
      "None\n"
     ]
    }
   ],
   "source": [
    "for i in forest:\n",
    "    print(i['F1L_mutation'])"
   ]
  },
  {
   "cell_type": "code",
   "execution_count": null,
   "id": "fcf33436",
   "metadata": {},
   "outputs": [],
   "source": []
  },
  {
   "cell_type": "code",
   "execution_count": 20,
   "id": "1dfb982b",
   "metadata": {},
   "outputs": [
    {
     "name": "stdout",
     "output_type": "stream",
     "text": [
      "150.8445231380462\n"
     ]
    }
   ],
   "source": [
    "print(familly['F3R_filtered'].length())"
   ]
  },
  {
   "cell_type": "code",
   "execution_count": 26,
   "id": "f73c00d2",
   "metadata": {},
   "outputs": [
    {
     "name": "stdout",
     "output_type": "stream",
     "text": [
      "166.72102239939835\n",
      "190.48274808556755\n"
     ]
    }
   ],
   "source": [
    "print(familly['F3R_filtered'].length())\n",
    "for e in familly['F3R_filtered'].postorder_edge_iter():\n",
    "    \n",
    "    if random.random() > 0.7:\n",
    "        e.length = e.length *1.5\n",
    "print(familly['F3R_filtered'].length()) "
   ]
  },
  {
   "cell_type": "code",
   "execution_count": null,
   "id": "c7979f76",
   "metadata": {},
   "outputs": [],
   "source": []
  },
  {
   "cell_type": "code",
   "execution_count": null,
   "id": "604236a1",
   "metadata": {},
   "outputs": [],
   "source": []
  },
  {
   "cell_type": "code",
   "execution_count": null,
   "id": "3c9846ca",
   "metadata": {},
   "outputs": [],
   "source": []
  },
  {
   "cell_type": "code",
   "execution_count": null,
   "id": "64efddc2",
   "metadata": {},
   "outputs": [],
   "source": []
  },
  {
   "cell_type": "code",
   "execution_count": null,
   "id": "217d967d",
   "metadata": {},
   "outputs": [],
   "source": []
  },
  {
   "cell_type": "code",
   "execution_count": null,
   "id": "33bca6eb",
   "metadata": {},
   "outputs": [],
   "source": []
  },
  {
   "cell_type": "code",
   "execution_count": null,
   "id": "fda550bb",
   "metadata": {},
   "outputs": [],
   "source": []
  },
  {
   "cell_type": "code",
   "execution_count": null,
   "id": "e2e2a9fd",
   "metadata": {},
   "outputs": [],
   "source": []
  },
  {
   "cell_type": "code",
   "execution_count": null,
   "id": "95b513e8",
   "metadata": {},
   "outputs": [],
   "source": []
  },
  {
   "cell_type": "code",
   "execution_count": null,
   "id": "4fb89ce9",
   "metadata": {},
   "outputs": [],
   "source": []
  },
  {
   "cell_type": "code",
   "execution_count": 52,
   "id": "1eaf0e11",
   "metadata": {},
   "outputs": [],
   "source": [
    "tns = dendropy.TaxonNamespace(['T_{}'.format(i) for i in range(1,200)])\n",
    "t1 = dendropy.Tree.get_from_string(forest[3]['R_filter'], schema=\"newick\", rooting=\"default-rooted\", taxon_namespace=tns )\n",
    "t2 = dendropy.Tree.get_from_string(forest[3]['L_filter'], schema=\"newick\", rooting=\"default-rooted\", taxon_namespace=tns)\n",
    "\n",
    "t1.is_rooted = False\n",
    "t2.is_rooted = False"
   ]
  },
  {
   "cell_type": "code",
   "execution_count": 53,
   "id": "485e43cd",
   "metadata": {},
   "outputs": [
    {
     "name": "stdout",
     "output_type": "stream",
     "text": [
      "                                                       /------------------- T3 \n",
      "                                                       |                       \n",
      "                                                       |          /-- T1       \n",
      "                                                /------+       /--+            \n",
      "                                                |      |   /---+  \\---- T_1    \n",
      "                                                |      |   |   |               \n",
      "                                                |      \\---+   \\--------- T2   \n",
      "                                                +          |                   \n",
      "                                                |          |         /T4       \n",
      "                                                |          \\---------+         \n",
      "                                                |                    \\T_3      \n",
      "                                                |                              \n",
      "                                                \\----------------- T_2         \n",
      "                                                                               \n",
      "                                                                               \n",
      "                                                        /------------------ T3 \n",
      "                                                        |                      \n",
      "                                                        |            /---- T1  \n",
      "                                              /---------+        /---+         \n",
      "                                              |         |   /----+   \\---- T_1 \n",
      "                                              |         |   |    |             \n",
      "                                              |         \\---+    \\--------- T2 \n",
      "                                              +             |                  \n",
      "                                              |             |             /T4  \n",
      "                                              |             \\-------------+    \n",
      "                                              |                           \\T_3 \n",
      "                                              |                                \n",
      "                                              \\------------------------ T_2    \n",
      "                                                                               \n",
      "                                                                               \n"
     ]
    }
   ],
   "source": [
    "t1.print_plot(plot_metric='length')\n",
    "t2.print_plot(plot_metric='length')"
   ]
  },
  {
   "cell_type": "code",
   "execution_count": 54,
   "id": "21162ebf",
   "metadata": {},
   "outputs": [
    {
     "data": {
      "text/plain": [
       "0.9898516274734948"
      ]
     },
     "execution_count": 54,
     "metadata": {},
     "output_type": "execute_result"
    }
   ],
   "source": [
    "treecompare.weighted_robinson_foulds_distance(t1, t2)\n",
    "            "
   ]
  },
  {
   "cell_type": "code",
   "execution_count": 60,
   "id": "0d1fa0c8",
   "metadata": {},
   "outputs": [
    {
     "data": {
      "text/plain": [
       "\"[&R] (T3:0.6593457333227907,(((T1:0.12592760869404268,'T_1':0.18889141304106402):0.09524798297977241,T2:0.33176338751072265):0.12118011121568753,(T4:0.0,'T_3':0.0):0.3423557028895026):0.14581217898853674,'T_2':0.8428976540823929):1.64374216955737;\\n\""
      ]
     },
     "execution_count": 60,
     "metadata": {},
     "output_type": "execute_result"
    }
   ],
   "source": [
    "t1.is_rooted = True\n",
    "t2.is_rooted = True\n",
    "t1.as_string(schema='newick')"
   ]
  },
  {
   "cell_type": "code",
   "execution_count": 59,
   "id": "6eec88a8",
   "metadata": {},
   "outputs": [
    {
     "data": {
      "text/plain": [
       "\"[&R] (T3:0.4395638222151938,(((T1:0.12592760869404268,'T_1':0.12592760869404268):0.09524798297977241,T2:0.2211755916738151):0.12118011121568753,(T4:0.0,'T_3':0.0):0.3423557028895026):0.09720811932569116,'T_2':0.8428976540823929):1.0958281130382466;\\n\""
      ]
     },
     "execution_count": 59,
     "metadata": {},
     "output_type": "execute_result"
    }
   ],
   "source": [
    "t2.as_string(schema='newick')"
   ]
  },
  {
   "cell_type": "code",
   "execution_count": 63,
   "id": "f172b1d0",
   "metadata": {},
   "outputs": [
    {
     "name": "stdout",
     "output_type": "stream",
     "text": [
      "4.497163942281882\n"
     ]
    }
   ],
   "source": [
    "sum1 = 0\n",
    "for e in t1.postorder_edge_iter():\n",
    "    sum1 += e.length\n",
    "print(sum1)"
   ]
  },
  {
   "cell_type": "code",
   "execution_count": 64,
   "id": "e8a5c2cf",
   "metadata": {},
   "outputs": [
    {
     "name": "stdout",
     "output_type": "stream",
     "text": [
      "3.507312314808387\n"
     ]
    }
   ],
   "source": [
    "sum2 = 0\n",
    "for e in t2.postorder_edge_iter():\n",
    "    sum2 += e.length\n",
    "print(sum2)"
   ]
  },
  {
   "cell_type": "code",
   "execution_count": 65,
   "id": "04be253e",
   "metadata": {},
   "outputs": [
    {
     "data": {
      "text/plain": [
       "0.9898516274734952"
      ]
     },
     "execution_count": 65,
     "metadata": {},
     "output_type": "execute_result"
    }
   ],
   "source": [
    "abs(sum1-sum2)"
   ]
  },
  {
   "cell_type": "code",
   "execution_count": null,
   "id": "2ae27577",
   "metadata": {},
   "outputs": [],
   "source": []
  }
 ],
 "metadata": {
  "kernelspec": {
   "display_name": "Python 3 (ipykernel)",
   "language": "python",
   "name": "python3"
  },
  "language_info": {
   "codemirror_mode": {
    "name": "ipython",
    "version": 3
   },
   "file_extension": ".py",
   "mimetype": "text/x-python",
   "name": "python",
   "nbconvert_exporter": "python",
   "pygments_lexer": "ipython3",
   "version": "3.9.7"
  }
 },
 "nbformat": 4,
 "nbformat_minor": 5
}
