{
 "cells": [
  {
   "cell_type": "markdown",
   "metadata": {
    "deletable": true,
    "editable": true
   },
   "source": [
    "# Test trees"
   ]
  },
  {
   "cell_type": "code",
   "execution_count": 1,
   "metadata": {
    "collapsed": true,
    "deletable": true,
    "editable": true
   },
   "outputs": [],
   "source": [
    "import dendropy\n",
    "from dendropy.calculate import treecompare\n",
    "import logging\n",
    "from collections import defaultdict\n",
    "import itertools\n",
    "import random\n",
    "import math\n",
    "import copy\n",
    "import pandas as pd\n",
    "import numpy as np\n",
    "import matplotlib.pyplot as plt\n",
    "%matplotlib inline\n",
    "\n",
    "taxa = dendropy.TaxonNamespace()\n",
    "tree_str_1 = \"[&R] ((R,((E,F)speciation,(G,H)duplication)speciation)speciation,(Q,((K,L)speciation,(J,I)speciation)speciation)duplication)duplication;\"\n",
    "##tree_1 = dendropy.Tree.get(\n",
    "##        data=tree_str_1,\n",
    "##        schema=\"newick\", taxon_namespace = taxa)\n",
    "\n",
    "tree_str_2 = \"[&R] ((Q,((E,F)duplication,(G,H)speciation)speciation)speciation,(R,((K,L)speciation,(J,I)speciation)speciation)duplication)duplication;\"\n",
    "##tree_2 = dendropy.Tree.get(\n",
    "##        data=tree_str_2,\n",
    "##        schema=\"newick\", taxon_namespace = taxa)\n",
    "\n",
    "#tree_str_1 = \"[&U] ((A,B)speciation, (C,D)speciation)speciation;\"\n",
    "#tree_str_2 = \"[&U] ((A,C)speciation, (B,D)speciation)speciation;\"\n",
    "tree_str_3 = \"[&R] ((A,B)speciation, (C,D)speciation);\"\n",
    "tree_str_4 = \"[&R] ((A,C)speciation, (B,D)speciation);\"\n",
    "\n",
    "tree_1 = dendropy.Tree.get(\n",
    "        data=tree_str_1,\n",
    "        schema=\"newick\", taxon_namespace = taxa)\n",
    "\n",
    "tree_2 = dendropy.Tree.get(\n",
    "        data=tree_str_2,\n",
    "        schema=\"newick\", taxon_namespace = taxa)\n",
    "\n",
    "tree_3 = dendropy.Tree.get(\n",
    "        data=tree_str_3,\n",
    "        schema=\"newick\", taxon_namespace = taxa)\n",
    "\n",
    "tree_4 = dendropy.Tree.get(\n",
    "        data=tree_str_4,\n",
    "        schema=\"newick\", taxon_namespace = taxa)"
   ]
  },
  {
   "cell_type": "code",
   "execution_count": 2,
   "metadata": {
    "collapsed": true,
    "deletable": true,
    "editable": true
   },
   "outputs": [],
   "source": [
    "# Run the test on a much larger dataset\n",
    "taxa2 = dendropy.TaxonNamespace()\n",
    "t5 = dendropy.Tree.get_from_path('p53.nhx', 'newick', taxon_namespace=taxa2)\n",
    "for n in t5.internal_nodes():\n",
    "    if random.random() < 0.7:\n",
    "        n.label = 'speciation'\n",
    "    else:\n",
    "        n.label = 'duplication'\n",
    "t5.seed_node.label = None"
   ]
  },
  {
   "cell_type": "markdown",
   "metadata": {
    "deletable": true,
    "editable": true
   },
   "source": [
    "## Function definitions"
   ]
  },
  {
   "cell_type": "code",
   "execution_count": 3,
   "metadata": {
    "collapsed": true,
    "deletable": true,
    "editable": true
   },
   "outputs": [],
   "source": [
    "# make a copy and reroot\n",
    "def cloneAndReroot(t):\n",
    "  t1 = t.clone(depth=1)\n",
    "  # reroot around the edge leading to the first leaf\n",
    "  l = next(t1.leaf_node_iter())\n",
    "  t1.reroot_at_edge(l.incident_edges()[0])\n",
    "  return(t1)\n"
   ]
  },
  {
   "cell_type": "code",
   "execution_count": 4,
   "metadata": {
    "collapsed": true,
    "deletable": true,
    "editable": true
   },
   "outputs": [],
   "source": [
    "def identify_labelled_bipartitions(t):\n",
    "  \n",
    "    t.encode_bipartitions()\n",
    "\n",
    "    def recursive_f(n,bipart,bipart2nodes,numTaxa):\n",
    "        if n.is_leaf():\n",
    "            return\n",
    "        for c in n.child_node_iter():\n",
    "            if not c.is_leaf():\n",
    "                numTaxaC = bin(c.bipartition.split_bitmask).count('1')\n",
    "                numTaxaN = numTaxa - numTaxaC\n",
    "\n",
    "                # at the start of the recursion, one subtree might contain all taxa \n",
    "                # minus the other one so we must ignore this trivial bipartition\n",
    "                if numTaxaN > 1:\n",
    "                    bipart.append(c.bipartition)\n",
    "                    bipart2nodes[c.bipartition] = [c,n]\n",
    "                recursive_f(c,bipart,bipart2nodes,numTaxa)\n",
    "                \n",
    "    numTaxa = len(t.leaf_nodes())\n",
    "    bipart = []\n",
    "    bipart2nodes = {}\n",
    "    recursive_f(t.seed_node,bipart,bipart2nodes,numTaxa)\n",
    "    return(bipart,bipart2nodes)"
   ]
  },
  {
   "cell_type": "code",
   "execution_count": 5,
   "metadata": {
    "collapsed": true,
    "deletable": true,
    "editable": true
   },
   "outputs": [],
   "source": [
    "def LRF(intree1,intree2):\n",
    "    t1 = intree1.clone()\n",
    "    t2 = intree2.clone()\n",
    "    b1,bTn1 = identify_labelled_bipartitions(t1)\n",
    "    b2,bTn2 = identify_labelled_bipartitions(t2)\n",
    "\n",
    "    # FIRST PART:  identifying the bipartitions unique to one or the other tree\n",
    "    #              and collapsing the trivial edges\n",
    "    tocollapse1 = []\n",
    "    tocollapse2 = []\n",
    "    simple_rf = tot_rf = path_flip = 0\n",
    "    for k in set(b1).difference(set(b2)):\n",
    "        logging.info(k)\n",
    "        # retrieve the nodes associated with the bipartition\n",
    "        [c,n] = bTn1[k]\n",
    "        if c.label == n.label:\n",
    "            logging.info('collapsing node %s' % c)\n",
    "            c.edge.collapse()\n",
    "            simple_rf += 1\n",
    "        else:\n",
    "            tocollapse1.append(k)\n",
    "    logging.info('---')\n",
    "    for k in set(b2).difference(set(b1)):\n",
    "        logging.info(k)\n",
    "        # retrieve the nodes associated with the bipartition\n",
    "        [c,n] = bTn2[k]\n",
    "        if c.label == n.label:\n",
    "            logging.info(\"collapsing node %s\" % c)\n",
    "            c.edge.collapse()\n",
    "            simple_rf += 1\n",
    "        else:\n",
    "            tocollapse2.append(k)\n",
    "    logging.info('***')        \n",
    "    print('step 1, collapse consistent edges: %d' % simple_rf)\n",
    "\n",
    "    # PART II:  identifying the connected components of edges to be \n",
    "    #           collapsed and recording the ends of the longest path\n",
    "    #\n",
    "    # The idea of this function is to go from root to leaves,\n",
    "    # and then, on the way back, compute the longest path of\n",
    "    # each component to be collapsed.\n",
    "    # Within each component, we need to keep track of three potential \n",
    "    # cases: \n",
    "    #  (1) the longest path spans over the edge (n.edge) in question,\n",
    "    #      in which case its total length is still undetermined \n",
    "    #  (2) the longest path spans over two of the children of n. In\n",
    "    #      this case the length is known but the type needs to be\n",
    "    #      determined\n",
    "    #  (3) the longest path is found somewhere deeper. We need to keep\n",
    "    #      track of its type.\n",
    "    #\n",
    "    # Note that the longest path is highlighted with ****\n",
    "    #\n",
    "    #                                   ------\n",
    "    #                                 /\n",
    "    #                     **************************\n",
    "    #                   *\n",
    "    #   ****n.edge**** n      (case 1)\n",
    "    #                   \\\n",
    "    #                     -----------------\n",
    "    #\n",
    "    #                                   ------\n",
    "    #                                 /\n",
    "    #                     **************************\n",
    "    #                   *\n",
    "    #   ---n.edge---- n      (case 2)\n",
    "    #                   *\n",
    "    #                     **********************\n",
    "    #\n",
    "    #\n",
    "    #                                   ************\n",
    "    #                                 *\n",
    "    #                     ------------**************\n",
    "    #                   /\n",
    "    #   ---n.edge---- n      (case 3)\n",
    "    #                   \\\n",
    "    #                     ---------------\n",
    "\n",
    "    # a helpful datastructure to store a path\n",
    "    class maxpath(object):\n",
    "        def __init__(self, length=0, n1=None, n2=None):\n",
    "            self.length = length\n",
    "            self.n1 = n1\n",
    "            self.n2 = n2\n",
    "        def __cmp__(self, other):\n",
    "            return(cmp(self.length, other.length))\n",
    "        def __lt__(self, other):\n",
    "            return(self.length < other.length)\n",
    "        def __eq__(self, other):\n",
    "            return(self.length == other.length)\n",
    "        def __str__(self):\n",
    "            return('Path length: %d. Ends %s & %s' % (self.length, self.n1, self.n2))\n",
    "\n",
    "    def recursive_f(n,tocollapse,out):\n",
    "        nonlocal path_flip\n",
    "        if n.is_leaf():\n",
    "            return([maxpath(),maxpath()])\n",
    "        case1 = []\n",
    "        case3 = []\n",
    "        for c in n.child_node_iter():\n",
    "            [t1,t3] = recursive_f(c,tocollapse,out)\n",
    "            case1.append(t1)\n",
    "            case3.append(t3)\n",
    "        case1.sort(reverse=True)\n",
    "        case3.sort(reverse=True)\n",
    "        # do we need to collapse the edge in question?\n",
    "        if n.bipartition in tocollapse:\n",
    "            # if the maximum path goes over the edge n, we need\n",
    "            # to increment the length in question\n",
    "            newcase1 = copy.deepcopy(case1[0])\n",
    "            if case1[0].length == 0:\n",
    "                newcase1.n1 = copy.deepcopy(n)\n",
    "            newcase1.length = newcase1.length + 1\n",
    "            # if not, we keep track of the longest path in the component\n",
    "            # seen so far (case 3)\n",
    "            newcase3 = copy.deepcopy(case3[0])\n",
    "            # if there are more than one child edge to collapse,\n",
    "            # there is one last scenario, which is that the longest path\n",
    "            # is obtained by connecting two children edges (case 2)\n",
    "            if case1[0].length + case1[1].length > case3[0].length:\n",
    "                # store the total length\n",
    "                newcase3.length = case1[0].length+case1[1].length\n",
    "                # store the end nodes\n",
    "                newcase3.n1 = case1[0].n1\n",
    "                newcase3.n2 = case1[1].n1\n",
    "            return([newcase1,newcase3])\n",
    "        else:\n",
    "            # if one of the children was still part of a component,\n",
    "            # we need to store it\n",
    "            if sum([c.length for c in case1]) > 0:\n",
    "                # we need to check what is the maximum length path\n",
    "                if case1[0].length > case3[0].length:\n",
    "                    # longest path is case 1 or case 2\n",
    "                    if case1[1].length > 0:\n",
    "                        # longest path is case 2\n",
    "                        bestpath = maxpath(case1[0].length + case1[1].length, case1[0].n1, case1[1].n1)\n",
    "                        if bestpath.length % 2 == 0:\n",
    "                            assert bestpath.n1.label == bestpath.n2.label\n",
    "                        else:\n",
    "                            assert bestpath.n1.label != bestpath.n2.label \n",
    "                    else:\n",
    "                        bestpath = case1[0]\n",
    "                        bestpath.n2 = copy.deepcopy(n)\n",
    "                        # longest path is case 1\n",
    "                        if bestpath.length % 2 == 0:\n",
    "                            assert n.label == bestpath.n1.label\n",
    "                        else:\n",
    "                            assert n.label != bestpath.n1.label\n",
    "\n",
    "                else:\n",
    "                    # longest path is case3\n",
    "                    bestpath = case3[0]\n",
    "\n",
    "                path_flip += math.floor((bestpath.length+1)/2)\n",
    "                out[n] = bestpath\n",
    "                # determine type\n",
    "                if bestpath.length % 2 == 0:\n",
    "                    n.label = bestpath.n1.label\n",
    "                else:\n",
    "                    n.label = \"arbitrary\"\n",
    "            # reset counts\n",
    "            return([maxpath(),maxpath()])\n",
    "    \n",
    "    path_flip = 0\n",
    "    tot_rf = simple_rf + len(tocollapse1) + len(tocollapse2)\n",
    "    out1 = {}\n",
    "    recursive_f(t1.seed_node,tocollapse1,out1)\n",
    "    out2 = {}\n",
    "    recursive_f(t2.seed_node,tocollapse2,out2)\n",
    "    for n in t1.internal_nodes():\n",
    "        if n.bipartition in tocollapse1:\n",
    "            n.edge.collapse()\n",
    "    for n in t2.internal_nodes():\n",
    "        if n.bipartition in tocollapse2:\n",
    "            n.edge.collapse()\n",
    "                    \n",
    "                    \n",
    "    logging.info('  #component t1 %d', len(out1))\n",
    "    logging.info(out1)\n",
    "    logging.info('  #component t2 %d', len(out2))\n",
    "    logging.info(out2)\n",
    "    logging.info('  #flips %d', path_flip)\n",
    "    logging.info(t1)\n",
    "    logging.info(t2)\n",
    "    logging.info(t1.as_ascii_plot())\n",
    "\n",
    "    ## PART 3:  flipping the nodes, if needed, and checking whether\n",
    "    ##    arbitary vs arbitrary comparisons can save a flip by going\n",
    "    ##    over an expansion instead of a contraction.\n",
    "    \n",
    "    def ordered_bipartitions(tree):\n",
    "        leaves_dic = {}\n",
    "        for node in tree.internal_nodes():\n",
    "            leaves_dic[tuple(sorted(nd.taxon.label for nd in dendropy.Tree(seed_node = node).leaf_nodes()))] = node\n",
    "        return leaves_dic\n",
    "\n",
    "    ob1 = ordered_bipartitions(t1)\n",
    "    ob2 = ordered_bipartitions(t2)\n",
    "\n",
    "    \n",
    "    def branches_at_end(path,tocollapse):\n",
    "        tc1 = set([t.split_bitmask for t in tocollapse])\n",
    "\n",
    "        s1 = [t.bipartition.split_bitmask for t in path.n1.child_nodes()]\n",
    "        s1.append(path.n1.bipartition.split_bitmask)\n",
    "        s1 = set(s1)\n",
    "        s1 = s1.difference(tc1)\n",
    "\n",
    "        s2 = [t.bipartition.split_bitmask for t in path.n2.child_nodes()]\n",
    "        s2.append(path.n2.bipartition.split_bitmask)\n",
    "        s2 = set(s2)\n",
    "        s2 = s2.difference(tc1)\n",
    "\n",
    "        # convention is return speciation, then duplication node\n",
    "        if path.n1.label == 'speciation':\n",
    "            return([s1,s2])\n",
    "        else:\n",
    "            return([s2,s1])\n",
    "\n",
    "    end_flip = 0\n",
    "    for b in ob1:\n",
    "        if (ob1[b].label == \"speciation\" and ob2[b].label == \"duplication\") or (\n",
    "            ob1[b].label == \"duplication\" and ob2[b].label == \"speciation\"):\n",
    "            end_flip += 1\n",
    "        elif (ob1[b].label == \"arbitrary\" and ob2[b].label == \"arbitrary\"):\n",
    "            # let's check if we can save a flip\n",
    "            \n",
    "            [s1,s2] = branches_at_end(out1[ob1[b]],tocollapse1)\n",
    "            [s3,s4] = branches_at_end(out2[ob2[b]],tocollapse2)\n",
    "            logging.info(s1,s2,s3,s4)\n",
    "            \n",
    "            # To be able to save a flip via expansion, one end has to\n",
    "            # contain all of the branches of its corresponding end in\n",
    "            # the other tree, e.g. like so: \n",
    "            #\n",
    "            #      s1              s2          s3            s4\n",
    "            #  {b1,b2,b3}S-----D{b4,b5} vs. {b1,b2}S-----D{b3,b4,b5}  \n",
    "            #  \n",
    "            # (s3 contained in s1, and s2 contained in s4). \n",
    "            # Note that the end type have to match.\n",
    "            if (bool(s1.difference(s3)) or bool(s3.difference(s1)) or \n",
    "                bool(s2.difference(s4)) or bool(s4.difference(s2))):\n",
    "                end_flip -= 1\n",
    "            logging.info('Matching islands are both of type arbitrary & can save a flip!')\n",
    "    print('step 3, perform remaining flips ', end_flip)\n",
    "    erf = tot_rf+path_flip+end_flip\n",
    "    print('**TOTAL** extended RF dist:', erf)\n",
    "    return(erf)\n",
    "    "
   ]
  },
  {
   "cell_type": "code",
   "execution_count": 6,
   "metadata": {
    "collapsed": true,
    "deletable": true,
    "editable": true
   },
   "outputs": [],
   "source": [
    "## The following function definitions are used to introduce random edits\n",
    "\n",
    "def collapse_node(node):\n",
    "    add_flip = 0\n",
    "    if node.parent_node != None and node.label == node.parent_node.label:\n",
    "        node.edge.collapse()\n",
    "    else:\n",
    "        raise ValueError('this edge cannot be collapsed without a flip!')\n",
    "    return add_flip\n",
    "def flip_node(node):\n",
    "    if node.label == 'speciation':\n",
    "        node.label = 'duplication'\n",
    "    elif node.label == 'duplication':\n",
    "        node.label = 'speciation'\n",
    "    else:\n",
    "        raise ValueError('Should not happen!!')\n",
    "        number = random.randint(1,2)\n",
    "        if number == 1:\n",
    "            node.label = \"speciation\"\n",
    "        if number == 2:\n",
    "            node.label = \"duplication\"\n",
    "            \n",
    "## Note by CD: I have simplified and cleaned up the code. See my version below\n",
    "def extend_node2(node):\n",
    "    if len(node.adjacent_nodes())<= 3:\n",
    "        raise ValueError(\"Insufficient degree\")\n",
    "    \n",
    "    tree_test = tree_1.clone()\n",
    "    tmp = node\n",
    "    modif = node.child_nodes()\n",
    "    random_number = random.randint(1, len(modif) - 2)\n",
    "    partition = modif[random_number:len(modif)]\n",
    "    subtrees_modif = []\n",
    "    for nd in partition:\n",
    "        subtrees_modif.append(dendropy.Tree(seed_node = nd).leaf_nodes())\n",
    "    subtrees_modif = [item for sublist in subtrees_modif for item in sublist]\n",
    "    subtrees_modif = [node.taxon.label for node in subtrees_modif]\n",
    "    tree_test.retain_taxa_with_labels(subtrees_modif)\n",
    "    tmp.add_child(tree_test.seed_node)\n",
    "    return tree_1.as_ascii_plot()\n",
    "\n",
    "def extend_node(node):\n",
    "    if len(node.adjacent_nodes())<= 3:\n",
    "        print(node.adjacent_nodes(),node.incident_edges())\n",
    "        raise ValueError(\"Insufficient degree. Should not happen\")\n",
    "    # store the children in a temporary array\n",
    "    children = node.child_nodes()\n",
    "    # shuffle the array\n",
    "    random.shuffle(children)\n",
    "    \n",
    "    \n",
    "    node.clear_child_nodes()\n",
    "    new = node.add_child(dendropy.Node(label=node.label))\n",
    "    # choose between 2 and n-1 children to be connected to the new node\n",
    "    k = random.randint(2,len(children)-1) \n",
    "    for i in range(0,len(children)):\n",
    "        # add the first k \n",
    "        if i < k:\n",
    "            new.add_child(children[i])\n",
    "        else:\n",
    "            node.add_child(children[i])\n",
    "\n",
    "\n",
    "def mutateLabeledTree(tree, n):\n",
    "    e = f = c = 0\n",
    "    for i in range(0, n):\n",
    "        logging.info(i)\n",
    "        #potential nodes\n",
    "\n",
    "        potential_nodes_to_collapse = []\n",
    "        for n in tree.internal_nodes():\n",
    "            #skip the root node\n",
    "            if n.parent_node == None:\n",
    "                continue\n",
    "            if n.label == n.parent_node.label and n.label != None:\n",
    "                potential_nodes_to_collapse.append(n)\n",
    "        potential_nodes_to_flip = [n for n in tree.internal_nodes() if n.label != None]\n",
    "        potential_nodes_to_expand = [n for n in tree.internal_nodes() if \n",
    "                                     len(n.incident_edges()) > 3 and n != tree.seed_node]\n",
    "        \n",
    "        \n",
    "        ncol = len(potential_nodes_to_collapse)\n",
    "        nflip = len(potential_nodes_to_flip)\n",
    "        nexp = len(potential_nodes_to_expand)\n",
    "        \n",
    "        # 30% chance of flipping\n",
    "        if random.random() < 0.3:\n",
    "            flip_node(potential_nodes_to_flip[random.randint(0,nflip-1)])\n",
    "            f += 1\n",
    "        else:\n",
    "            x = random.randint(0,ncol+nexp-1)\n",
    "            if x < ncol:\n",
    "                collapse_node(potential_nodes_to_collapse[x])\n",
    "                c += 1\n",
    "            else:\n",
    "                e += 1\n",
    "                extend_node(potential_nodes_to_expand[x-ncol])\n",
    "        logging.info(tree)\n",
    "    logging.info('#flips %s #col %s, #exp %s',f,c,e)\n",
    "    return(tree)"
   ]
  },
  {
   "cell_type": "markdown",
   "metadata": {
    "deletable": true,
    "editable": true
   },
   "source": [
    "## Data analysis"
   ]
  },
  {
   "cell_type": "code",
   "execution_count": 7,
   "metadata": {
    "collapsed": false,
    "deletable": true,
    "editable": true
   },
   "outputs": [
    {
     "ename": "AttributeError",
     "evalue": "'int' object has no attribute 'append'",
     "output_type": "error",
     "traceback": [
      "\u001b[0;31m---------------------------------------------------------------------------\u001b[0m",
      "\u001b[0;31mAttributeError\u001b[0m                            Traceback (most recent call last)",
      "\u001b[0;32m<ipython-input-7-d15383a409ab>\u001b[0m in \u001b[0;36m<module>\u001b[0;34m()\u001b[0m\n\u001b[1;32m     18\u001b[0m         \u001b[0mt2\u001b[0m \u001b[0;34m=\u001b[0m \u001b[0mmutateLabeledTree\u001b[0m\u001b[0;34m(\u001b[0m\u001b[0mt\u001b[0m\u001b[0;34m.\u001b[0m\u001b[0mclone\u001b[0m\u001b[0;34m(\u001b[0m\u001b[0mdepth\u001b[0m\u001b[0;34m=\u001b[0m\u001b[0;36m1\u001b[0m\u001b[0;34m)\u001b[0m\u001b[0;34m,\u001b[0m \u001b[0mi\u001b[0m\u001b[0;34m)\u001b[0m\u001b[0;34m\u001b[0m\u001b[0m\n\u001b[1;32m     19\u001b[0m \u001b[0;34m\u001b[0m\u001b[0m\n\u001b[0;32m---> 20\u001b[0;31m         \u001b[0mres\u001b[0m\u001b[0;34m[\u001b[0m\u001b[0mi\u001b[0m\u001b[0;34m]\u001b[0m\u001b[0;34m.\u001b[0m\u001b[0mappend\u001b[0m\u001b[0;34m(\u001b[0m\u001b[0mLRF\u001b[0m\u001b[0;34m(\u001b[0m\u001b[0mt\u001b[0m\u001b[0;34m,\u001b[0m\u001b[0mt2\u001b[0m\u001b[0;34m)\u001b[0m\u001b[0;34m)\u001b[0m\u001b[0;34m\u001b[0m\u001b[0m\n\u001b[0m\u001b[1;32m     21\u001b[0m         \u001b[0mres_rf\u001b[0m\u001b[0;34m[\u001b[0m\u001b[0mi\u001b[0m\u001b[0;34m]\u001b[0m\u001b[0;34m.\u001b[0m\u001b[0mappend\u001b[0m\u001b[0;34m(\u001b[0m\u001b[0mtreecompare\u001b[0m\u001b[0;34m.\u001b[0m\u001b[0msymmetric_difference\u001b[0m\u001b[0;34m(\u001b[0m\u001b[0mt\u001b[0m\u001b[0;34m,\u001b[0m\u001b[0mt2\u001b[0m\u001b[0;34m)\u001b[0m\u001b[0;34m)\u001b[0m\u001b[0;34m\u001b[0m\u001b[0m\n\u001b[1;32m     22\u001b[0m         \u001b[0mt\u001b[0m \u001b[0;34m=\u001b[0m \u001b[0mt2\u001b[0m\u001b[0;34m;\u001b[0m\u001b[0;34m\u001b[0m\u001b[0m\n",
      "\u001b[0;31mAttributeError\u001b[0m: 'int' object has no attribute 'append'"
     ]
    }
   ],
   "source": [
    "# Simulation & computation\n",
    "\n",
    "t = cloneAndReroot(t5)\n",
    "random.seed(12)\n",
    "abort = False\n",
    "res = [0]*20\n",
    "res_rf = [0]*20\n",
    "logging.root.level = 40\n",
    "for i in range(1,15):\n",
    "    if abort:\n",
    "        break\n",
    "    res.append([])\n",
    "    res_rf.append([])\n",
    "    for j in range(0,20):\n",
    "        #if i == 4 and j == 12:\n",
    "        #    abort = True\n",
    "        #    break\n",
    "        t2 = mutateLabeledTree(t.clone(depth=1), i)\n",
    "        \n",
    "        res[i].append(LRF(t,t2))\n",
    "        res_rf[i].append(treecompare.symmetric_difference(t,t2))\n",
    "        t = t2;\n"
   ]
  },
  {
   "cell_type": "code",
   "execution_count": 8,
   "metadata": {
    "collapsed": false,
    "deletable": true,
    "editable": true
   },
   "outputs": [
    {
     "ename": "ValueError",
     "evalue": "setting an array element with a sequence.",
     "output_type": "error",
     "traceback": [
      "\u001b[0;31m---------------------------------------------------------------------------\u001b[0m",
      "\u001b[0;31mValueError\u001b[0m                                Traceback (most recent call last)",
      "\u001b[0;32m<ipython-input-8-1b9380cfa31f>\u001b[0m in \u001b[0;36m<module>\u001b[0;34m()\u001b[0m\n\u001b[0;32m----> 1\u001b[0;31m \u001b[0mx\u001b[0m \u001b[0;34m=\u001b[0m \u001b[0mnp\u001b[0m\u001b[0;34m.\u001b[0m\u001b[0marray\u001b[0m\u001b[0;34m(\u001b[0m\u001b[0mres\u001b[0m\u001b[0;34m)\u001b[0m\u001b[0;34m\u001b[0m\u001b[0m\n\u001b[0m\u001b[1;32m      2\u001b[0m \u001b[0my\u001b[0m \u001b[0;34m=\u001b[0m \u001b[0mx\u001b[0m\u001b[0;34m.\u001b[0m\u001b[0mtranspose\u001b[0m\u001b[0;34m(\u001b[0m\u001b[0;34m)\u001b[0m\u001b[0;34m\u001b[0m\u001b[0m\n\u001b[1;32m      3\u001b[0m \u001b[0mdf\u001b[0m \u001b[0;34m=\u001b[0m \u001b[0mpd\u001b[0m\u001b[0;34m.\u001b[0m\u001b[0mDataFrame\u001b[0m\u001b[0;34m(\u001b[0m\u001b[0my\u001b[0m\u001b[0;34m)\u001b[0m\u001b[0;34m\u001b[0m\u001b[0m\n\u001b[1;32m      4\u001b[0m \u001b[0mprint\u001b[0m\u001b[0;34m(\u001b[0m\u001b[0;34m'Labelled Robinson Foulds:'\u001b[0m\u001b[0;34m)\u001b[0m\u001b[0;34m\u001b[0m\u001b[0m\n\u001b[1;32m      5\u001b[0m \u001b[0mdf\u001b[0m\u001b[0;34m.\u001b[0m\u001b[0mplot\u001b[0m\u001b[0;34m.\u001b[0m\u001b[0mbox\u001b[0m\u001b[0;34m(\u001b[0m\u001b[0;34m)\u001b[0m\u001b[0;34m\u001b[0m\u001b[0m\n",
      "\u001b[0;31mValueError\u001b[0m: setting an array element with a sequence."
     ]
    }
   ],
   "source": [
    "x = np.array(res)\n",
    "y = x.transpose()\n",
    "df = pd.DataFrame(y)\n",
    "print('Labelled Robinson Foulds:')\n",
    "df.plot.box()"
   ]
  },
  {
   "cell_type": "code",
   "execution_count": 1880,
   "metadata": {
    "collapsed": false,
    "deletable": true,
    "editable": true
   },
   "outputs": [
    {
     "name": "stdout",
     "output_type": "stream",
     "text": [
      "Standard Robinson Foulds:\n"
     ]
    },
    {
     "data": {
      "text/plain": [
       "<matplotlib.axes._subplots.AxesSubplot at 0x11685fba8>"
      ]
     },
     "execution_count": 1880,
     "metadata": {},
     "output_type": "execute_result"
    },
    {
     "data": {
      "image/png": "[encoded data removed]",
      "text/plain": [
       "<matplotlib.figure.Figure at 0x11687e748>"
      ]
     },
     "metadata": {},
     "output_type": "display_data"
    }
   ],
   "source": [
    "x = np.array(res_rf)\n",
    "y = x.transpose()\n",
    "df = pd.DataFrame(y)\n",
    "print('Standard Robinson Foulds:')\n",
    "df.plot.box()"
   ]
  },
  {
   "cell_type": "markdown",
   "metadata": {
    "deletable": true,
    "editable": true
   },
   "source": [
    "## Testing the code"
   ]
  },
  {
   "cell_type": "code",
   "execution_count": 1451,
   "metadata": {
    "collapsed": false,
    "deletable": true,
    "editable": true
   },
   "outputs": [
    {
     "name": "stderr",
     "output_type": "stream",
     "text": [
      "INFO:root:0\n",
      "INFO:root:(R,((H,G,E,(Q,L)speciation)duplication,K,(I,F)speciation,J)duplication)\n",
      "INFO:root:1\n",
      "INFO:root:(R,((H,G,E,(Q,L)speciation)duplication,K,(I,F)speciation,J)speciation)\n",
      "INFO:root:2\n",
      "INFO:root:(R,((H,G,E,(Q,L)speciation)duplication,K,I,F,J)speciation)\n",
      "INFO:root:3\n",
      "INFO:root:(R,(((H,E,(Q,L)speciation)duplication,G)duplication,K,I,F,J)speciation)\n",
      "INFO:root:#flips 1 #col 1, #exp 2\n"
     ]
    },
    {
     "name": "stdout",
     "output_type": "stream",
     "text": [
      "(R,(H,(Q,L)speciation,E,K,G,(I,F)speciation,J)duplication)\n",
      "/---------------------------------------------------------------------------- R\n",
      "|                                                                              \n",
      "|                        /--------------------------------------------------- H\n",
      "|                        |                                                     \n",
      "|                        |                         /------------------------- Q\n",
      "+                        |-------------------------+                           \n",
      "|                        |                         \\------------------------- L\n",
      "|                        |                                                     \n",
      "|                        |--------------------------------------------------- E\n",
      "|                        |                                                     \n",
      "\\------------------------+--------------------------------------------------- K\n",
      "                         |                                                     \n",
      "                         |--------------------------------------------------- G\n",
      "                         |                                                     \n",
      "                         |                         /------------------------- I\n",
      "                         |-------------------------+                           \n",
      "                         |                         \\------------------------- F\n",
      "                         |                                                     \n",
      "                         \\--------------------------------------------------- J\n",
      "                                                                               \n",
      "                                                                               \n",
      "(R,(((H,E,(Q,L)speciation)duplication,G)duplication,K,I,F,J)speciation)\n",
      "/---------------------------------------------------------------------------- R\n",
      "|                                                                              \n",
      "|                                             /------------------------------ H\n",
      "|                                             |                                \n",
      "|                             /---------------+------------------------------ E\n",
      "|                             |               |                                \n",
      "+                             |               |              /--------------- Q\n",
      "|              /--------------+               \\--------------+                 \n",
      "|              |              |                              \\--------------- L\n",
      "|              |              |                                                \n",
      "|              |              \\---------------------------------------------- G\n",
      "|              |                                                               \n",
      "\\--------------+------------------------------------------------------------- K\n",
      "               |                                                               \n",
      "               |------------------------------------------------------------- I\n",
      "               |                                                               \n",
      "               |------------------------------------------------------------- F\n",
      "               |                                                               \n",
      "               \\------------------------------------------------------------- J\n",
      "                                                                               \n",
      "                                                                               \n"
     ]
    }
   ],
   "source": [
    "logging.root.level = 20\n",
    "print(t)\n",
    "t.print_plot()\n",
    "t2 = mutateLabeledTree(t.clone(depth=1), 4)\n",
    "t1 = t.clone(depth=1)\n",
    "print(t2)\n",
    "t2.print_plot()"
   ]
  },
  {
   "cell_type": "code",
   "execution_count": 1452,
   "metadata": {
    "collapsed": false,
    "deletable": true,
    "editable": true
   },
   "outputs": [
    {
     "name": "stderr",
     "output_type": "stream",
     "text": [
      "INFO:root:1000000100\n",
      "INFO:root:---\n",
      "INFO:root:0010111010\n",
      "INFO:root:0010110010\n",
      "INFO:root:collapsing node <Node object at 0x10a2d95c0: 'duplication' (None)>\n",
      "INFO:root:***\n",
      "INFO:root:  #component t1 1\n",
      "INFO:root:{<Node object at 0x109dbef28: 'arbitrary' (None)>: <__main__.LRF.<locals>.maxpath object at 0x10a320048>}\n",
      "INFO:root:  #component t2 1\n",
      "INFO:root:{<Node object at 0x10a2d9e48: 'arbitrary' (None)>: <__main__.LRF.<locals>.maxpath object at 0x10a319fd0>}\n",
      "INFO:root:  #flips 2\n",
      "INFO:root:(R,(H,(Q,L)speciation,E,K,G,I,F,J)arbitrary)\n",
      "INFO:root:(R,(H,E,(Q,L)speciation,G,K,I,F,J)arbitrary)\n",
      "INFO:root:/---------------------------------------------------------------------------- R\n",
      "|                                                                              \n",
      "|                        /--------------------------------------------------- H\n",
      "|                        |                                                     \n",
      "|                        |                         /------------------------- Q\n",
      "+                        |-------------------------+                           \n",
      "|                        |                         \\------------------------- L\n",
      "|                        |                                                     \n",
      "|                        |--------------------------------------------------- E\n",
      "|                        |                                                     \n",
      "\\------------------------+--------------------------------------------------- K\n",
      "                         |                                                     \n",
      "                         |--------------------------------------------------- G\n",
      "                         |                                                     \n",
      "                         |--------------------------------------------------- I\n",
      "                         |                                                     \n",
      "                         |--------------------------------------------------- F\n",
      "                         |                                                     \n",
      "                         \\--------------------------------------------------- J\n",
      "                                                                               \n",
      "                                                                               \n",
      "INFO:root:Matching islands are both of type arbitrary & can save a flip!\n"
     ]
    },
    {
     "name": "stdout",
     "output_type": "stream",
     "text": [
      "step 1, collapse consistent edges: 1\n",
      "{('E', 'F', 'G', 'H', 'I', 'J', 'K', 'L', 'Q'): <Node object at 0x109dbef28: 'arbitrary' (None)>, ('L', 'Q'): <Node object at 0x109dbe588: 'speciation' (None)>, ('E', 'F', 'G', 'H', 'I', 'J', 'K', 'L', 'Q', 'R'): <Node object at 0x109dbe470: 'None' (None)>}\n",
      "-\n",
      "{('E', 'F', 'G', 'H', 'I', 'J', 'K', 'L', 'Q'): <Node object at 0x10a2d9e48: 'arbitrary' (None)>, ('L', 'Q'): <Node object at 0x10a2d9630: 'speciation' (None)>, ('E', 'F', 'G', 'H', 'I', 'J', 'K', 'L', 'Q', 'R'): <Node object at 0x10a2d9f28: 'None' (None)>}\n",
      "{512, 4} {64, 160, 2, 256, 8, 16, 1022} {64, 512, 4, 256, 1022} {16, 8, 2, 160}\n",
      "step 3, perform remaining flips  -1\n",
      "**TOTAL** extended RF dist: 4\n"
     ]
    },
    {
     "data": {
      "text/plain": [
       "4"
      ]
     },
     "execution_count": 1452,
     "metadata": {},
     "output_type": "execute_result"
    }
   ],
   "source": [
    "LRF(t1,t2)"
   ]
  },
  {
   "cell_type": "markdown",
   "metadata": {
    "deletable": true,
    "editable": true
   },
   "source": [
    "# Legacy code by Gabriela"
   ]
  },
  {
   "cell_type": "markdown",
   "metadata": {
    "deletable": true,
    "editable": true
   },
   "source": [
    "## A) Identifying"
   ]
  },
  {
   "cell_type": "code",
   "execution_count": 4,
   "metadata": {
    "collapsed": false,
    "deletable": true,
    "editable": true
   },
   "outputs": [
    {
     "name": "stdout",
     "output_type": "stream",
     "text": [
      "('E', 'F', 'G', 'H') (<Node object at 0x1098bc160: 'speciation' (None)>, <Node object at 0x1098bc278: 'speciation' (None)>)\n",
      "('E', 'F', 'G', 'H', 'I', 'J', 'K', 'L', 'Q') (<Node object at 0x1098bc278: 'speciation' (None)>, <Node object at 0x109c87668: 'None' (None)>)\n",
      "('I', 'J', 'K', 'L') (<Node object at 0x109c77c18: 'speciation' (None)>, <Node object at 0x109838f60: 'duplication' (None)>)\n",
      "('I', 'J', 'K', 'L', 'Q') (<Node object at 0x109838f60: 'duplication' (None)>, <Node object at 0x1098bc278: 'speciation' (None)>)\n",
      "('E', 'F') (<Node object at 0x1098bc1d0: 'speciation' (None)>, <Node object at 0x1098bc160: 'speciation' (None)>)\n",
      "('G', 'H') (<Node object at 0x109838fd0: 'duplication' (None)>, <Node object at 0x1098bc160: 'speciation' (None)>)\n",
      "('K', 'L') (<Node object at 0x109c77eb8: 'speciation' (None)>, <Node object at 0x109c77c18: 'speciation' (None)>)\n",
      "('I', 'J') (<Node object at 0x109c87940: 'speciation' (None)>, <Node object at 0x109c77c18: 'speciation' (None)>)\n",
      "\n",
      "\n",
      "There are 8 bipartitions.\n"
     ]
    }
   ],
   "source": [
    "# Comment by CD: the code has a mistake in that it also returns a \"trivial\" bipartition \n",
    "# with one taxon on one side (R) and all others on the other side.\n",
    "\n",
    "def id_bipartitions_and_linkers(tree):\n",
    "    tree.encode_bipartitions()\n",
    "    linkers_bipartitions = {}\n",
    "    labeled_nodes = [node for node in tree if node.label]\n",
    "    for node in labeled_nodes:\n",
    "        if len(node.bipartition.leafset_taxa(taxon_namespace = tree.taxon_namespace))>1:\n",
    "            #if node.parent_node in labeled_nodes:\n",
    "            linkers_bipartitions[tuple(sorted([nd.label for nd in node.bipartition.leafset_taxa(taxon_namespace = tree.taxon_namespace)]))] = (node, node.parent_node)\n",
    "    return linkers_bipartitions\n",
    "\n",
    "# testing:\n",
    "for element in id_bipartitions_and_linkers(t1):\n",
    "    print (element, id_bipartitions_and_linkers(t1)[element])\n",
    "print (\"\\n\")\n",
    "print (\"There are\", len(id_bipartitions_and_linkers(t1)), \"bipartitions.\")"
   ]
  },
  {
   "cell_type": "code",
   "execution_count": 190,
   "metadata": {
    "collapsed": false,
    "deletable": true,
    "editable": true
   },
   "outputs": [
    {
     "name": "stdout",
     "output_type": "stream",
     "text": [
      "The set of differing biparitions is: {('E', 'F', 'G', 'H', 'R'), ('E', 'F', 'G', 'H', 'Q'), ('I', 'J', 'K', 'L', 'Q'), ('I', 'J', 'K', 'L', 'R')} \n",
      "\n",
      "All the edges that will be collapsed in tree_1 [(<Node object at 0x109c77da0: 'speciation' (None)>, <Node object at 0x109c77d30: 'duplication' (None)>), (<Node object at 0x109c87518: 'duplication' (None)>, <Node object at 0x109c77d30: 'duplication' (None)>)]\n",
      "All the edges that will be collapsed in tree_2 [(<Node object at 0x109c87cf8: 'speciation' (None)>, <Node object at 0x109c87c88: 'duplication' (None)>), (<Node object at 0x109c8a128: 'duplication' (None)>, <Node object at 0x109c87c88: 'duplication' (None)>)]\n",
      "\n",
      "\n",
      "The edges that will be collapsed in this first step in tree 1 are:\n",
      "(<Node object at 0x109c87518: 'duplication' (None)>, <Node object at 0x109c77d30: 'duplication' (None)>) \n",
      "\n",
      "The edges that will be collapsed in this first step in tree 2 are:\n",
      "(<Node object at 0x109c8a128: 'duplication' (None)>, <Node object at 0x109c87c88: 'duplication' (None)>) \n",
      "\n",
      "\n",
      "\n"
     ]
    }
   ],
   "source": [
    "# note CD: some bipartitions are counted twice (e.g. ('E', 'F', 'G', 'H', 'R') == ('I', 'J', 'K', 'L', 'Q'))\n",
    "\n",
    "def id_differing(tree_1, tree_2):\n",
    "    differing_bipartitions = set(id_bipartitions_and_linkers(tree_1).keys()).symmetric_difference(set(id_bipartitions_and_linkers(tree_2)))\n",
    "    return differing_bipartitions\n",
    "differing_bipartitions = id_differing(tree_1,tree_2)\n",
    "\n",
    "tree_1_edges = [id_bipartitions_and_linkers(tree_1)[element] for element in differing_bipartitions if element in id_bipartitions_and_linkers(tree_1).keys()]\n",
    "tree_2_edges = [id_bipartitions_and_linkers(tree_2)[element] for element in differing_bipartitions if element in id_bipartitions_and_linkers(tree_2).keys()]\n",
    "\n",
    "diff_same_tree_1 = [element for element in tree_1_edges if element[0].label == element[1].label]\n",
    "diff_same_tree_2 = [element for element in tree_2_edges if element[0].label == element[1].label]\n",
    "\n",
    "\n",
    "# testing\n",
    "print (\"The set of differing biparitions is:\", differing_bipartitions, \"\\n\")\n",
    "\n",
    "\n",
    "print (\"All the edges that will be collapsed in tree_1\", tree_1_edges)\n",
    "print (\"All the edges that will be collapsed in tree_2\", tree_2_edges)\n",
    "print (\"\\n\")\n",
    "print (\"The edges that will be collapsed in this first step in tree 1 are:\")\n",
    "for elem in range(0, len(diff_same_tree_1)):\n",
    "    print (diff_same_tree_1[elem], \"\\n\")\n",
    "print (\"The edges that will be collapsed in this first step in tree 2 are:\")\n",
    "for elem in range(0, len(diff_same_tree_2)):\n",
    "    print (diff_same_tree_2[elem], \"\\n\")\n",
    "print (\"\\n\")"
   ]
  },
  {
   "cell_type": "markdown",
   "metadata": {
    "deletable": true,
    "editable": true
   },
   "source": [
    "## B) Collapsing"
   ]
  },
  {
   "cell_type": "code",
   "execution_count": 27,
   "metadata": {
    "collapsed": false,
    "deletable": true,
    "editable": true
   },
   "outputs": [
    {
     "name": "stdout",
     "output_type": "stream",
     "text": [
      "The first tree is now ((R,((E,F)speciation,(G,H)duplication)speciation)speciation,Q,((K,L)speciation,(J,I)speciation)speciation)duplication\n",
      "The differing bipartitions are now only {('E', 'F', 'G', 'H', 'Q'), ('E', 'F', 'G', 'H', 'R')}\n"
     ]
    }
   ],
   "source": [
    "for element in diff_same_tree_1: element[0].edge.collapse()\n",
    "for element in diff_same_tree_2: element[0].edge.collapse()\n",
    "\n",
    "# testing\n",
    "\n",
    "print (\"The first tree is now\", tree_1)\n",
    "print (\"The differing bipartitions are now only\", id_differing(tree_1, tree_2))"
   ]
  },
  {
   "cell_type": "code",
   "execution_count": null,
   "metadata": {
    "collapsed": true,
    "deletable": true,
    "editable": true
   },
   "outputs": [],
   "source": []
  },
  {
   "cell_type": "code",
   "execution_count": 28,
   "metadata": {
    "collapsed": false,
    "deletable": true,
    "editable": true
   },
   "outputs": [
    {
     "name": "stdout",
     "output_type": "stream",
     "text": [
      "                   /--------------------------------------------------------- R\n",
      "                   |                                                           \n",
      "/------------------+                                     /------------------- E\n",
      "|                  |                  /------------------+                     \n",
      "|                  |                  |                  \\------------------- F\n",
      "|                  \\------------------+                                        \n",
      "|                                     |                  /------------------- G\n",
      "|                                     \\------------------+                     \n",
      "+                                                        \\------------------- H\n",
      "|                                                                              \n",
      "|---------------------------------------------------------------------------- Q\n",
      "|                                                                              \n",
      "|                                                        /------------------- K\n",
      "|                                     /------------------+                     \n",
      "|                                     |                  \\------------------- L\n",
      "\\-------------------------------------+                                        \n",
      "                                      |                  /------------------- J\n",
      "                                      \\------------------+                     \n",
      "                                                         \\------------------- I\n",
      "                                                                               \n",
      "                                                                               \n",
      "                   /--------------------------------------------------------- Q\n",
      "                   |                                                           \n",
      "/------------------+                                     /------------------- E\n",
      "|                  |                  /------------------+                     \n",
      "|                  |                  |                  \\------------------- F\n",
      "|                  \\------------------+                                        \n",
      "|                                     |                  /------------------- G\n",
      "|                                     \\------------------+                     \n",
      "+                                                        \\------------------- H\n",
      "|                                                                              \n",
      "|---------------------------------------------------------------------------- R\n",
      "|                                                                              \n",
      "|                                                        /------------------- K\n",
      "|                                     /------------------+                     \n",
      "|                                     |                  \\------------------- L\n",
      "\\-------------------------------------+                                        \n",
      "                                      |                  /------------------- J\n",
      "                                      \\------------------+                     \n",
      "                                                         \\------------------- I\n",
      "                                                                               \n",
      "                                                                               \n"
     ]
    }
   ],
   "source": [
    "tree_1.print_plot()\n",
    "tree_2.print_plot()"
   ]
  },
  {
   "cell_type": "code",
   "execution_count": 645,
   "metadata": {
    "collapsed": false,
    "deletable": true,
    "editable": true
   },
   "outputs": [
    {
     "data": {
      "text/plain": [
       "2"
      ]
     },
     "execution_count": 645,
     "metadata": {},
     "output_type": "execute_result"
    }
   ],
   "source": [
    "random.randint(2,2)"
   ]
  },
  {
   "cell_type": "code",
   "execution_count": null,
   "metadata": {
    "collapsed": true,
    "deletable": true,
    "editable": true
   },
   "outputs": [],
   "source": []
  },
  {
   "cell_type": "code",
   "execution_count": 14,
   "metadata": {
    "collapsed": false,
    "deletable": true,
    "editable": true
   },
   "outputs": [
    {
     "ename": "AttributeError",
     "evalue": "'tuple' object has no attribute 'edge'",
     "output_type": "error",
     "traceback": [
      "\u001b[0;31m---------------------------------------------------------------------------\u001b[0m",
      "\u001b[0;31mAttributeError\u001b[0m                            Traceback (most recent call last)",
      "\u001b[0;32m<ipython-input-14-db247e0deada>\u001b[0m in \u001b[0;36m<module>\u001b[0;34m()\u001b[0m\n\u001b[0;32m----> 1\u001b[0;31m \u001b[0mdiff_same_tree_1\u001b[0m\u001b[0;34m[\u001b[0m\u001b[0;36m0\u001b[0m\u001b[0;34m]\u001b[0m\u001b[0;34m.\u001b[0m\u001b[0medge\u001b[0m\u001b[0;34m\u001b[0m\u001b[0m\n\u001b[0m",
      "\u001b[0;31mAttributeError\u001b[0m: 'tuple' object has no attribute 'edge'"
     ]
    }
   ],
   "source": [
    "diff_same_tree_1[0].edge"
   ]
  },
  {
   "cell_type": "code",
   "execution_count": null,
   "metadata": {
    "collapsed": true,
    "deletable": true,
    "editable": true
   },
   "outputs": [],
   "source": []
  },
  {
   "cell_type": "code",
   "execution_count": null,
   "metadata": {
    "collapsed": true,
    "deletable": true,
    "editable": true
   },
   "outputs": [],
   "source": []
  },
  {
   "cell_type": "code",
   "execution_count": null,
   "metadata": {
    "collapsed": true,
    "deletable": true,
    "editable": true
   },
   "outputs": [],
   "source": []
  },
  {
   "cell_type": "code",
   "execution_count": null,
   "metadata": {
    "collapsed": true,
    "deletable": true,
    "editable": true
   },
   "outputs": [],
   "source": []
  },
  {
   "cell_type": "code",
   "execution_count": null,
   "metadata": {
    "collapsed": true,
    "deletable": true,
    "editable": true
   },
   "outputs": [],
   "source": []
  },
  {
   "cell_type": "code",
   "execution_count": null,
   "metadata": {
    "collapsed": true,
    "deletable": true,
    "editable": true
   },
   "outputs": [],
   "source": []
  },
  {
   "cell_type": "markdown",
   "metadata": {
    "deletable": true,
    "editable": true
   },
   "source": [
    "## C) How many operations to be added to extended Robinson-Foulds?"
   ]
  },
  {
   "cell_type": "code",
   "execution_count": 6,
   "metadata": {
    "collapsed": false,
    "deletable": true,
    "editable": true
   },
   "outputs": [
    {
     "name": "stdout",
     "output_type": "stream",
     "text": [
      "2\n"
     ]
    }
   ],
   "source": [
    "erf = 0\n",
    "erf += len(diff_same_tree_1)+ len(diff_same_tree_2)\n",
    "\n",
    "#testing\n",
    "\n",
    "print (erf)"
   ]
  },
  {
   "cell_type": "markdown",
   "metadata": {
    "deletable": true,
    "editable": true
   },
   "source": [
    "# 2) Dealing with diff_diff bipartitions"
   ]
  },
  {
   "cell_type": "markdown",
   "metadata": {
    "deletable": true,
    "editable": true
   },
   "source": [
    "## A) Identifying"
   ]
  },
  {
   "cell_type": "code",
   "execution_count": 7,
   "metadata": {
    "collapsed": false,
    "deletable": true,
    "editable": true
   },
   "outputs": [
    {
     "name": "stdout",
     "output_type": "stream",
     "text": [
      "(<Node object at 0x4397fd0: 'duplication' (None)>, <Node object at 0x4397e70: 'speciation' (None)>)\n",
      "(<Node object at 0x4397dd0: 'speciation' (None)>, <Node object at 0x4397d90: 'duplication' (None)>)\n",
      "(<Node object at 0x43ac230: 'speciation' (None)>, <Node object at 0x43ac1f0: 'speciation' (None)>)\n",
      "(<Node object at 0x4397eb0: 'speciation' (None)>, <Node object at 0x4397e70: 'speciation' (None)>)\n",
      "(<Node object at 0x4397d90: 'duplication' (None)>, None)\n",
      "(<Node object at 0x4397e70: 'speciation' (None)>, <Node object at 0x4397dd0: 'speciation' (None)>)\n",
      "(<Node object at 0x43ac1f0: 'speciation' (None)>, <Node object at 0x4397d90: 'duplication' (None)>)\n",
      "(<Node object at 0x43ac350: 'speciation' (None)>, <Node object at 0x43ac1f0: 'speciation' (None)>)\n",
      "\n",
      "\n",
      "('There are', 8, 'bipartitions in tree 1.')\n",
      "('There are', 8, 'bipartitions in tree 2.')\n"
     ]
    }
   ],
   "source": [
    "for element in id_bipartitions_and_linkers(tree_1):\n",
    "    print (id_bipartitions_and_linkers(tree_1)[element])\n",
    "print (\"\\n\")\n",
    "print (\"There are\", len(id_bipartitions_and_linkers(tree_1)), \"bipartitions in tree 1.\")\n",
    "print (\"There are\", len(id_bipartitions_and_linkers(tree_2)), \"bipartitions in tree 2.\")"
   ]
  },
  {
   "cell_type": "code",
   "execution_count": 8,
   "metadata": {
    "collapsed": false,
    "deletable": true,
    "editable": true
   },
   "outputs": [
    {
     "name": "stdout",
     "output_type": "stream",
     "text": [
      "set([('E', 'F', 'G', 'H', 'R'), ('E', 'F', 'G', 'H', 'Q')])\n",
      "('The edges that will be collapsed in tree 1 in this step are', [(<Node object at 0x4397dd0: 'speciation' (None)>, <Node object at 0x4397d90: 'duplication' (None)>)])\n",
      "('The edges that will be collapsed in tree 2 in this step are', [(<Node object at 0x43ac530: 'speciation' (None)>, <Node object at 0x43ac4f0: 'duplication' (None)>)])\n"
     ]
    }
   ],
   "source": [
    "differing_bipartitions = id_differing(tree_1,tree_2)\n",
    "\n",
    "tree_1_edges = [id_bipartitions_and_linkers(tree_1)[element] for element in differing_bipartitions if element in id_bipartitions_and_linkers(tree_1).keys()]\n",
    "tree_2_edges = [id_bipartitions_and_linkers(tree_2)[element] for element in differing_bipartitions if element in id_bipartitions_and_linkers(tree_2).keys()]\n",
    "\n",
    "diff_diff_tree_1 = [element for element in tree_1_edges if element[0].label != element[1].label]\n",
    "diff_diff_tree_2 = [element for element in tree_2_edges if element[0].label != element[1].label]\n",
    "\n",
    "# testing\n",
    "print (differing_bipartitions)\n",
    "print (\"The edges that will be collapsed in tree 1 in this step are\", diff_diff_tree_1)\n",
    "print (\"The edges that will be collapsed in tree 2 in this step are\", diff_diff_tree_2)\n"
   ]
  },
  {
   "cell_type": "markdown",
   "metadata": {
    "deletable": true,
    "editable": true
   },
   "source": [
    "## B) Organizing in subtrees"
   ]
  },
  {
   "cell_type": "code",
   "execution_count": 14,
   "metadata": {
    "collapsed": false,
    "deletable": true,
    "editable": true
   },
   "outputs": [
    {
     "name": "stdout",
     "output_type": "stream",
     "text": [
      "[{<Node object at 0x4397dd0: 'speciation' (None)>: [<Node object at 0x4397d90: 'duplication' (None)>], <Node object at 0x4397d90: 'duplication' (None)>: [<Node object at 0x4397dd0: 'speciation' (None)>]}]\n",
      "[{<Node object at 0x43ac530: 'speciation' (None)>: [<Node object at 0x43ac4f0: 'duplication' (None)>], <Node object at 0x43ac4f0: 'duplication' (None)>: [<Node object at 0x43ac530: 'speciation' (None)>]}]\n"
     ]
    }
   ],
   "source": [
    "def adjacent_edges(node,diff):\n",
    "    output = []\n",
    "    for edge in diff:\n",
    "        if node in edge:\n",
    "            output.append(edge)\n",
    "    return output\n",
    "\n",
    "visited = {}\n",
    "for edge in diff_diff_tree_1:\n",
    "    visited[edge] = False\n",
    "\n",
    "def explore(node,orig,diff, subtree = defaultdict(set)):\n",
    "    for edge in adjacent_edges(node,diff):\n",
    "        if edge == orig:\n",
    "            continue\n",
    "        else:\n",
    "            if edge[0] == node:\n",
    "                dest = edge[1]\n",
    "            else:\n",
    "                dest = edge[0]\n",
    "        subtree[node].add(dest)\n",
    "        subtree[dest].add(node)\n",
    "        orig = edge\n",
    "        explore(dest,orig,diff)\n",
    "    return subtree\n",
    "\n",
    "\n",
    "subtrees_tree_1 = []\n",
    "subtrees_tree_2 = []\n",
    "nodes_tree_1 = set(list(itertools.chain(*diff_diff_tree_1)))\n",
    "nodes_tree_2 = set(list(itertools.chain(*diff_diff_tree_2)))\n",
    "\n",
    "for node in nodes_tree_1:\n",
    "    subtree = defaultdict(set)\n",
    "    if explore(node, None, diff_diff_tree_1, subtree = subtree) not in subtrees_tree_1:    \n",
    "        subtrees_tree_1.append(explore(node, None, diff_diff_tree_1, subtree = subtree))\n",
    "        \n",
    "for node in nodes_tree_2:\n",
    "    subtree = defaultdict(set)\n",
    "    if explore(node, None, diff_diff_tree_2, subtree=subtree) not in subtrees_tree_2:   \n",
    "        subtrees_tree_2.append(explore(node, None, diff_diff_tree_2, subtree= subtree))\n",
    "\n",
    "for i in range(0, len(subtrees_tree_1)): \n",
    "    subtrees_tree_1[i] = dict(subtrees_tree_1[i])\n",
    "    for j in subtrees_tree_1[i]:\n",
    "        subtrees_tree_1[i][j] = list(subtrees_tree_1[i][j])\n",
    "for i in range(0, len(subtrees_tree_2)): \n",
    "    subtrees_tree_2[i] = dict(subtrees_tree_2[i])\n",
    "    for j in subtrees_tree_2[i]:\n",
    "        subtrees_tree_2[i][j] = list(subtrees_tree_2[i][j])\n",
    "\n",
    "print (subtrees_tree_1)\n",
    "print (subtrees_tree_2)"
   ]
  },
  {
   "cell_type": "markdown",
   "metadata": {
    "deletable": true,
    "editable": true
   },
   "source": [
    "## C) Longest chains for all subtrees"
   ]
  },
  {
   "cell_type": "code",
   "execution_count": 16,
   "metadata": {
    "collapsed": false,
    "deletable": true,
    "editable": true
   },
   "outputs": [
    {
     "name": "stdout",
     "output_type": "stream",
     "text": [
      "{<Node object at 0x4397dd0: 'speciation' (None)>: None, <Node object at 0x4397d90: 'duplication' (None)>: 1}\n",
      "<Node object at 0x4397dd0: 'speciation' (None)>\n",
      "['speciation']\n",
      "['speciation']\n",
      "('List of chain lengths', [1, 1])\n",
      "('Total number of flips is', 2)\n"
     ]
    }
   ],
   "source": [
    "def bfs(start, adj):\n",
    "    distances = {}\n",
    "    distances[start] = None\n",
    "    i = 1\n",
    "    frontier = [start]\n",
    "    while len(frontier)>0:\n",
    "        next_array = []\n",
    "        for u in frontier:\n",
    "            for v in adj[u]:\n",
    "                if v not in distances:\n",
    "                    distances[v]=i\n",
    "                    next_array.append(v)\n",
    "        frontier = next_array\n",
    "        i+=1\n",
    "    return distances\n",
    "\n",
    "for i in range(0, len(subtrees_tree_1)):\n",
    "    print (bfs(list(nodes_tree_1)[0], subtrees_tree_1[i]))\n",
    "    \n",
    "import math \n",
    "\n",
    "def longest_distance(distances):\n",
    "    values = list(distances.values())\n",
    "    keys = list(distances.keys())\n",
    "    return keys[values.index(max(values))], max(values)\n",
    "\n",
    "list_of_chains = []\n",
    "end_types_1 = []\n",
    "end_types_2 = []\n",
    "\n",
    "for i in range(0, len(subtrees_tree_1)):\n",
    "    print list(nodes_tree_1)[0]\n",
    "    first_node =  longest_distance(bfs(list(nodes_tree_1)[0], subtrees_tree_1[i]))[0]\n",
    "    furthest_node = longest_distance(bfs(first_node,subtrees_tree_1[i]))[1]\n",
    "    list_of_chains.append(furthest_node)\n",
    "    if furthest_node % 2 == 1:\n",
    "        if (furthest_node - math.ceil(furthest_node/2))%2 == 0:\n",
    "            end_type = first_node.label\n",
    "        else:\n",
    "            if first_node.label == \"speciation\":\n",
    "                end_type = \"duplication\"\n",
    "            elif first_node.label == \"duplication\":\n",
    "                end_type = \"speciation\"\n",
    "    elif furthest_node % 2 == 0:\n",
    "        end_type = \"undetermined\"\n",
    "    end_types_1.append(end_type)\n",
    "\n",
    "for i in range(0, len(subtrees_tree_2)):\n",
    "    first_node =  longest_distance(bfs(list(nodes_tree_2)[0], subtrees_tree_2[i]))[0]\n",
    "    furthest_node = longest_distance(bfs(first_node,subtrees_tree_2[i]))[1]\n",
    "    list_of_chains.append(furthest_node)\n",
    "    if furthest_node % 2 == 1:\n",
    "        if (furthest_node - math.ceil(furthest_node/2))%2 == 0:\n",
    "            end_type = first_node.label\n",
    "        else:\n",
    "            if first_node.label == \"speciation\":\n",
    "                end_type = \"duplication\"\n",
    "            elif first_node.label == \"duplication\":\n",
    "                end_type = \"speciation\"\n",
    "    elif furthest_node % 2 == 0:\n",
    "        end_type = \"undetermined\"\n",
    "    end_types_2.append(end_type)\n",
    "    \n",
    "print (end_types_1)\n",
    "print (end_types_2)\n",
    "\n",
    "print (\"List of chain lengths\", list_of_chains)\n",
    "flips = 0\n",
    "for i in list_of_chains:\n",
    "    if i == 1:\n",
    "        flips += 1\n",
    "    elif i > 1:\n",
    "        flips += math.floor(i/2)\n",
    "        \n",
    "print (\"Total number of flips is\", int(flips))"
   ]
  },
  {
   "cell_type": "markdown",
   "metadata": {
    "deletable": true,
    "editable": true
   },
   "source": [
    "## D) Collapsing "
   ]
  },
  {
   "cell_type": "code",
   "execution_count": null,
   "metadata": {
    "collapsed": true,
    "deletable": true,
    "editable": true
   },
   "outputs": [],
   "source": [
    "def family_edges(subtrees_tree_1, diff_diff_tree_1):\n",
    "    family_edges_1 = []\n",
    "    for subtree in subtrees_tree_1:\n",
    "        family = subtree.keys()\n",
    "        family_edges = []\n",
    "        for edge in diff_diff_tree_1:\n",
    "            for key in family:\n",
    "                if key in edge:\n",
    "                    family_edges.append(edge)\n",
    "        family_edges_1.append(list(set(family_edges)))\n",
    "    return family_edges_1\n",
    "\n",
    "\n",
    "for family in range(0, len(family_edges(subtrees_tree_1, diff_diff_tree_1))):\n",
    "    for element in family_edges(subtrees_tree_1, diff_diff_tree_1)[family]:\n",
    "        element[0].edge.collapse()\n",
    "        final_node = element[1]\n",
    "    final_node.label = end_types_1[family]        \n",
    "\n",
    "for family in range(0, len(family_edges(subtrees_tree_2, diff_diff_tree_2))):\n",
    "    for element in family_edges(subtrees_tree_2, diff_diff_tree_2)[family]:\n",
    "        element[0].edge.collapse()\n",
    "        final_node = element[1]\n",
    "    final_node.label = end_types_2[family]\n"
   ]
  },
  {
   "cell_type": "markdown",
   "metadata": {
    "collapsed": true,
    "deletable": true,
    "editable": true
   },
   "source": [
    "## E) How many operations to be added to the extended Robinson-Foulds metric?"
   ]
  },
  {
   "cell_type": "code",
   "execution_count": null,
   "metadata": {
    "collapsed": true,
    "deletable": true,
    "editable": true
   },
   "outputs": [],
   "source": [
    "erf += flips + len(diff_diff_tree_1) + len(diff_diff_tree_2)\n",
    "print (\"flips\", flips)\n",
    "print (\"tree_1 operations\", len(diff_diff_tree_1))\n",
    "print (\"tree_2 operations\", len(diff_diff_tree_2))\n",
    "print (erf)"
   ]
  },
  {
   "cell_type": "markdown",
   "metadata": {
    "deletable": true,
    "editable": true
   },
   "source": [
    "# 3) Matching nodes in identical trees"
   ]
  },
  {
   "cell_type": "markdown",
   "metadata": {
    "deletable": true,
    "editable": true
   },
   "source": [
    "## 1) Quick check"
   ]
  },
  {
   "cell_type": "code",
   "execution_count": null,
   "metadata": {
    "collapsed": true,
    "deletable": true,
    "editable": true
   },
   "outputs": [],
   "source": [
    "print (id_bipartitions_and_linkers(tree_1).keys())\n",
    "print (id_bipartitions_and_linkers(tree_2).keys())"
   ]
  },
  {
   "cell_type": "markdown",
   "metadata": {
    "deletable": true,
    "editable": true
   },
   "source": [
    "## 2) Checking if, for same topologies, matching nodes have same type"
   ]
  },
  {
   "cell_type": "code",
   "execution_count": 17,
   "metadata": {
    "collapsed": false,
    "deletable": true,
    "editable": true
   },
   "outputs": [
    {
     "name": "stdout",
     "output_type": "stream",
     "text": [
      "{('G', 'H'): 'duplication', ('E', 'F', 'G', 'H', 'R'): 'speciation', ('K', 'L'): 'speciation', ('E', 'F'): 'speciation', ('E', 'F', 'G', 'H', 'I', 'J', 'K', 'L', 'Q', 'R'): 'duplication', ('E', 'F', 'G', 'H'): 'speciation', ('I', 'J', 'K', 'L'): 'speciation', ('I', 'J'): 'speciation'}\n",
      "{('G', 'H'): 'speciation', ('K', 'L'): 'speciation', ('E', 'F'): 'duplication', ('E', 'F', 'G', 'H', 'I', 'J', 'K', 'L', 'Q', 'R'): 'duplication', ('E', 'F', 'G', 'H'): 'speciation', ('I', 'J'): 'speciation', ('I', 'J', 'K', 'L'): 'speciation', ('E', 'F', 'G', 'H', 'Q'): 'speciation'}\n"
     ]
    }
   ],
   "source": [
    "def matching_nodes(tree_1):\n",
    "    tree_transition = tree_1.clone()\n",
    "    internal_nodes = [node for node in tree_transition if node.is_internal()]\n",
    "    leaves_dic = {}\n",
    "    for node in internal_nodes:\n",
    "        leaves_dic[tuple(sorted(nd.taxon.label for nd in dendropy.Tree(seed_node = node).leaf_nodes()))] = node.label\n",
    "    return leaves_dic\n",
    "print (matching_nodes(tree_1))\n",
    "print (matching_nodes(tree_2))"
   ]
  },
  {
   "cell_type": "code",
   "execution_count": null,
   "metadata": {
    "collapsed": true,
    "deletable": true,
    "editable": true
   },
   "outputs": [],
   "source": [
    "diff_id = 0\n",
    "for node in matching_nodes(tree_1):\n",
    "    if (matching_nodes(tree_1)[node] == \"speciation\" and matching_nodes(tree_2)[node] == \"duplication\") or (matching_nodes(tree_1)[node] == \"duplication\" and matching_nodes(tree_2)[node] == \"speciation\"):\n",
    "        diff_id += 1\n",
    "print (diff_id)       "
   ]
  },
  {
   "cell_type": "markdown",
   "metadata": {
    "deletable": true,
    "editable": true
   },
   "source": [
    "## C) How many operations to be added to extended Robinson-Foulds metric?"
   ]
  },
  {
   "cell_type": "code",
   "execution_count": null,
   "metadata": {
    "collapsed": true,
    "deletable": true,
    "editable": true
   },
   "outputs": [],
   "source": [
    "print (erf)\n",
    "erf += diff_id\n",
    "print (erf)"
   ]
  },
  {
   "cell_type": "markdown",
   "metadata": {
    "deletable": true,
    "editable": true
   },
   "source": [
    "# FINAL RESULT:"
   ]
  },
  {
   "cell_type": "code",
   "execution_count": null,
   "metadata": {
    "collapsed": true,
    "deletable": true,
    "editable": true
   },
   "outputs": [],
   "source": [
    "print (\"The extended Robinson-Foulds metric between those two trees is\", erf)"
   ]
  }
 ],
 "metadata": {
  "kernelspec": {
   "display_name": "Python 3",
   "language": "python",
   "name": "python3"
  },
  "language_info": {
   "codemirror_mode": {
    "name": "ipython",
    "version": 3
   },
   "file_extension": ".py",
   "mimetype": "text/x-python",
   "name": "python",
   "nbconvert_exporter": "python",
   "pygments_lexer": "ipython3",
   "version": "3.5.1"
  }
 },
 "nbformat": 4,
 "nbformat_minor": 1
}
