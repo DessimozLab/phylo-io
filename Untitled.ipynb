{
 "cells": [
  {
   "cell_type": "code",
   "execution_count": 163,
   "id": "e01be056",
   "metadata": {},
   "outputs": [],
   "source": [
    "from ete3 import Tree\n",
    "from datasketch import MinHash, MinHashLSHForest\n",
    "from random import choice\n",
    "from string import ascii_uppercase\n",
    "import time\n",
    "\n",
    "\n",
    "\n"
   ]
  },
  {
   "cell_type": "code",
   "execution_count": 164,
   "id": "07771b8f",
   "metadata": {},
   "outputs": [],
   "source": [
    "def create_trees(size):\n",
    "\n",
    "    names_library = [''.join(choice(ascii_uppercase) for i in range(50)) for _ in range(size+5)]\n",
    "\n",
    "    t1 = Tree()\n",
    "    t1.populate(size, names_library=names_library )\n",
    "\n",
    "    t2 = Tree()\n",
    "    t2.populate(size, names_library=names_library)\n",
    "\n",
    "    return t1,t2"
   ]
  },
  {
   "cell_type": "code",
   "execution_count": 155,
   "id": "ac43662f",
   "metadata": {},
   "outputs": [],
   "source": [
    "def create_dl(t):\n",
    "    for node in t.traverse(\"postorder\"):\n",
    "        if node.is_leaf():\n",
    "            node.dl = set([node.name])\n",
    "        else:\n",
    "            node.dl = set()\n",
    "\n",
    "            for c in node.children:\n",
    "                node.dl.update(c.dl)\n",
    "\n",
    "            node.dl.add('||'.join(sorted([e.name for e in node.get_leaves()])))\n",
    "            \n",
    "\n",
    "\n",
    "  "
   ]
  },
  {
   "cell_type": "code",
   "execution_count": 156,
   "id": "6ac76b2f",
   "metadata": {},
   "outputs": [],
   "source": [
    "def create_minhash_with_LSH(t):\n",
    "    \n",
    "    lsh = MinHashLSHForest(num_perm=128)\n",
    "        \n",
    "    for node in t.traverse(\"postorder\"):\n",
    "        m = MinHash(num_perm=128)\n",
    "        \n",
    "        for d in node.dl:\n",
    "            m.update(d.encode('utf8'))\n",
    "        \n",
    "        lsh.add(node, m)\n",
    "        node.mh = m\n",
    "    \n",
    "    return lsh\n",
    "\n"
   ]
  },
  {
   "cell_type": "code",
   "execution_count": 157,
   "id": "e11d18c9",
   "metadata": {},
   "outputs": [],
   "source": [
    "def brute_BCN(tree1, tree2):\n",
    "    \n",
    "\n",
    "    \n",
    "    for query in tree1.traverse(\"postorder\"):\n",
    "\n",
    "        query.jaccard = 0\n",
    "        query.BCN = None\n",
    "\n",
    "        for target in tree2.traverse(\"postorder\"):\n",
    "\n",
    "            jac = len(target.dl.intersection(query.dl))/len(target.dl.union(query.dl))\n",
    "\n",
    "            if jac > query.jaccard:\n",
    "                query.jaccard = jac\n",
    "                query.BCN = target\n",
    "\n",
    "\n",
    "\n",
    "            "
   ]
  },
  {
   "cell_type": "code",
   "execution_count": 158,
   "id": "13764120",
   "metadata": {},
   "outputs": [],
   "source": [
    "def lsh_BCN(tree, lsh):\n",
    "\n",
    "    for query in tree.traverse(\"postorder\"):\n",
    "        \n",
    "        result = lsh.query(query.mh,5)\n",
    "\n",
    "        query.jaccardMH = 0\n",
    "        query.BCNMH = None\n",
    "\n",
    "        for target in result:\n",
    "            jac = len(target.dl.intersection(query.dl))/len(target.dl.union(query.dl))\n",
    "            if  jac > query.jaccardMH:\n",
    "                query.jaccardMH = jac\n",
    "                query.BCNMH = target\n",
    "\n",
    "\n"
   ]
  },
  {
   "cell_type": "code",
   "execution_count": null,
   "id": "6e13374d",
   "metadata": {},
   "outputs": [],
   "source": [
    "\n",
    "    "
   ]
  },
  {
   "cell_type": "code",
   "execution_count": null,
   "id": "4ede1192",
   "metadata": {},
   "outputs": [],
   "source": []
  },
  {
   "cell_type": "code",
   "execution_count": 152,
   "id": "3ab4ae4a",
   "metadata": {},
   "outputs": [
    {
     "name": "stdout",
     "output_type": "stream",
     "text": [
      "Create trees 0.11960101127624512\n",
      "Create DeepLeaf 0.3793222904205322\n",
      "Create MinHash & LSH 21.037126064300537\n"
     ]
    },
    {
     "ename": "KeyboardInterrupt",
     "evalue": "",
     "output_type": "error",
     "traceback": [
      "\u001b[0;31m---------------------------------------------------------------------------\u001b[0m",
      "\u001b[0;31mTypeError\u001b[0m                                 Traceback (most recent call last)",
      "File \u001b[0;32m~/work/metabolomics/env_metabo/lib/python3.9/site-packages/ete3/coretype/tree.py:728\u001b[0m, in \u001b[0;36mTreeNode._iter_descendants_postorder\u001b[0;34m(self, is_leaf_fn)\u001b[0m\n\u001b[1;32m    727\u001b[0m \u001b[38;5;28;01mtry\u001b[39;00m:\n\u001b[0;32m--> 728\u001b[0m     node \u001b[38;5;241m=\u001b[39m \u001b[43mnode\u001b[49m\u001b[43m[\u001b[49m\u001b[38;5;241;43m1\u001b[39;49m\u001b[43m]\u001b[49m\n\u001b[1;32m    729\u001b[0m \u001b[38;5;28;01mexcept\u001b[39;00m \u001b[38;5;167;01mTypeError\u001b[39;00m:\n\u001b[1;32m    730\u001b[0m     \u001b[38;5;66;03m# PREORDER ACTIONS\u001b[39;00m\n",
      "\u001b[0;31mTypeError\u001b[0m: 'TreeNode' object is not subscriptable",
      "\nDuring handling of the above exception, another exception occurred:\n",
      "\u001b[0;31mKeyboardInterrupt\u001b[0m                         Traceback (most recent call last)",
      "Input \u001b[0;32mIn [152]\u001b[0m, in \u001b[0;36m<cell line: 22>\u001b[0;34m()\u001b[0m\n\u001b[1;32m     20\u001b[0m start \u001b[38;5;241m=\u001b[39m time\u001b[38;5;241m.\u001b[39mtime()\n\u001b[1;32m     21\u001b[0m brute_BCN(t1, t2)\n\u001b[0;32m---> 22\u001b[0m \u001b[43mbrute_BCN\u001b[49m\u001b[43m(\u001b[49m\u001b[43mt2\u001b[49m\u001b[43m,\u001b[49m\u001b[43m \u001b[49m\u001b[43mt1\u001b[49m\u001b[43m)\u001b[49m \n\u001b[1;32m     23\u001b[0m end \u001b[38;5;241m=\u001b[39m time\u001b[38;5;241m.\u001b[39mtime()\n\u001b[1;32m     24\u001b[0m \u001b[38;5;28mprint\u001b[39m(\u001b[38;5;124m\"\u001b[39m\u001b[38;5;124mCreate BRUTE BCN\u001b[39m\u001b[38;5;124m\"\u001b[39m, end \u001b[38;5;241m-\u001b[39m start)\n",
      "Input \u001b[0;32mIn [147]\u001b[0m, in \u001b[0;36mbrute_BCN\u001b[0;34m(tree1, tree2)\u001b[0m\n\u001b[1;32m      7\u001b[0m query\u001b[38;5;241m.\u001b[39mjaccard \u001b[38;5;241m=\u001b[39m \u001b[38;5;241m0\u001b[39m\n\u001b[1;32m      8\u001b[0m query\u001b[38;5;241m.\u001b[39mBCN \u001b[38;5;241m=\u001b[39m \u001b[38;5;28;01mNone\u001b[39;00m\n\u001b[0;32m---> 10\u001b[0m \u001b[38;5;28;01mfor\u001b[39;00m target \u001b[38;5;129;01min\u001b[39;00m tree2\u001b[38;5;241m.\u001b[39mtraverse(\u001b[38;5;124m\"\u001b[39m\u001b[38;5;124mpostorder\u001b[39m\u001b[38;5;124m\"\u001b[39m):\n\u001b[1;32m     12\u001b[0m     jac \u001b[38;5;241m=\u001b[39m \u001b[38;5;28mlen\u001b[39m(target\u001b[38;5;241m.\u001b[39mdl\u001b[38;5;241m.\u001b[39mintersection(query\u001b[38;5;241m.\u001b[39mdl))\u001b[38;5;241m/\u001b[39m\u001b[38;5;28mlen\u001b[39m(target\u001b[38;5;241m.\u001b[39mdl\u001b[38;5;241m.\u001b[39munion(query\u001b[38;5;241m.\u001b[39mdl))\n\u001b[1;32m     14\u001b[0m     \u001b[38;5;28;01mif\u001b[39;00m jac \u001b[38;5;241m>\u001b[39m query\u001b[38;5;241m.\u001b[39mjaccard:\n",
      "File \u001b[0;32m~/work/metabolomics/env_metabo/lib/python3.9/site-packages/ete3/coretype/tree.py:728\u001b[0m, in \u001b[0;36mTreeNode._iter_descendants_postorder\u001b[0;34m(self, is_leaf_fn)\u001b[0m\n\u001b[1;32m    726\u001b[0m node \u001b[38;5;241m=\u001b[39m to_visit\u001b[38;5;241m.\u001b[39mpop(\u001b[38;5;241m-\u001b[39m\u001b[38;5;241m1\u001b[39m)\n\u001b[1;32m    727\u001b[0m \u001b[38;5;28;01mtry\u001b[39;00m:\n\u001b[0;32m--> 728\u001b[0m     node \u001b[38;5;241m=\u001b[39m \u001b[43mnode\u001b[49m\u001b[43m[\u001b[49m\u001b[38;5;241;43m1\u001b[39;49m\u001b[43m]\u001b[49m\n\u001b[1;32m    729\u001b[0m \u001b[38;5;28;01mexcept\u001b[39;00m \u001b[38;5;167;01mTypeError\u001b[39;00m:\n\u001b[1;32m    730\u001b[0m     \u001b[38;5;66;03m# PREORDER ACTIONS\u001b[39;00m\n\u001b[1;32m    731\u001b[0m     \u001b[38;5;28;01mif\u001b[39;00m \u001b[38;5;129;01mnot\u001b[39;00m _leaf(node):\n\u001b[1;32m    732\u001b[0m         \u001b[38;5;66;03m# ADD CHILDREN\u001b[39;00m\n",
      "\u001b[0;31mKeyboardInterrupt\u001b[0m: "
     ]
    }
   ],
   "source": [
    "\n",
    "start = time.time()\n",
    "t1,t2 = create_trees(10000)\n",
    "end = time.time()\n",
    "print(\"Create trees\", end - start)\n",
    "\n",
    "\n",
    "start = time.time()\n",
    "create_dl(t1)\n",
    "create_dl(t2)\n",
    "end = time.time()\n",
    "print(\"Create DeepLeaf\", end - start)\n",
    "\n",
    "start = time.time()\n",
    "lsh1 = create_minhash_with_LSH(t1)\n",
    "lsh2 = create_minhash_with_LSH(t2)\n",
    "end = time.time()\n",
    "print(\"Create MinHash & LSH\", end - start)\n",
    "\n",
    "\n",
    "start = time.time()\n",
    "brute_BCN(t1, t2)\n",
    "brute_BCN(t2, t1) \n",
    "end = time.time()\n",
    "print(\"Create BRUTE BCN\", end - start)\n",
    "\n",
    "start = time.time()\n",
    "lsh_BCN(t1, lsh2)\n",
    "lsh_BCN(t2, lsh1)\n",
    "end = time.time()\n",
    "print(\"Create LSH BCN\", end - start)\n",
    "\n",
    "\n",
    "x = '''\n",
    "for node in t1.traverse(\"postorder\"):\n",
    "    if query.jaccardMH != query.jaccard:\n",
    "        print('JACCARD ERROR')\n",
    "    if query.BCNMH != query.BCN:\n",
    "        print('BCN ERROR')\n",
    "        \n",
    "for node in t2.traverse(\"postorder\"):\n",
    "    if query.jaccardMH != query.jaccard:\n",
    "        print('JACCARD ERROR')\n",
    "    if query.BCNMH != query.BCN:\n",
    "        print('BCN ERROR')\n",
    "'''\n",
    "\n",
    "\n"
   ]
  },
  {
   "cell_type": "code",
   "execution_count": 125,
   "id": "ec53dd90",
   "metadata": {},
   "outputs": [
    {
     "ename": "SyntaxError",
     "evalue": "invalid syntax (1950158151.py, line 1)",
     "output_type": "error",
     "traceback": [
      "\u001b[0;36m  Input \u001b[0;32mIn [125]\u001b[0;36m\u001b[0m\n\u001b[0;31m    Create trees 0.14911103248596191\u001b[0m\n\u001b[0m           ^\u001b[0m\n\u001b[0;31mSyntaxError\u001b[0m\u001b[0;31m:\u001b[0m invalid syntax\n"
     ]
    }
   ],
   "source": [
    "Create trees 0.14911103248596191\n",
    "Create DeepLeaf 0.3625359535217285\n",
    "Create MinHash & LSH 29.42011594772339\n",
    "Create BRUTE BCN 1051.6373472213745\n",
    "Create LSH BCN 10.032048225402832"
   ]
  },
  {
   "cell_type": "code",
   "execution_count": 165,
   "id": "cf90011c",
   "metadata": {},
   "outputs": [],
   "source": [
    "sizes = [1,100,1000,5000,10000, 20000, 50000]\n",
    "times = []\n",
    "\n",
    "for s in sizes:\n",
    "    start = time.time()\n",
    "    \n",
    "    t1,t2 = create_trees(s)\n",
    "    \n",
    "    create_dl(t1)\n",
    "    create_dl(t2)\n",
    "    \n",
    "    lsh1 = create_minhash_with_LSH(t1)\n",
    "    lsh2 = create_minhash_with_LSH(t2)\n",
    "    \n",
    "    lsh_BCN(t1, lsh2)\n",
    "    lsh_BCN(t2, lsh1)\n",
    "    \n",
    "    end = time.time()\n",
    "    times.append(end-start)\n",
    "    \n"
   ]
  },
  {
   "cell_type": "code",
   "execution_count": 166,
   "id": "e5398d17",
   "metadata": {},
   "outputs": [
    {
     "name": "stdout",
     "output_type": "stream",
     "text": [
      "[1, 100, 1000, 5000, 10000, 20000, 50000] [0.2141118049621582, 0.2391037940979004, 2.467801809310913, 12.677470922470093, 25.31147813796997, 54.83856272697449, 134.94903182983398]\n"
     ]
    },
    {
     "data": {
      "image/png": "[encoded data removed]",
      "text/plain": [
       "<Figure size 640x480 with 1 Axes>"
      ]
     },
     "metadata": {},
     "output_type": "display_data"
    }
   ],
   "source": [
    "\n",
    "import matplotlib.pyplot as plt\n",
    "\n",
    "print(sizes,times)\n",
    "  \n",
    "\n",
    "plt.plot(sizes, times)\n",
    "    \n",
    "plt.show()"
   ]
  },
  {
   "cell_type": "code",
   "execution_count": null,
   "id": "e8f79d93",
   "metadata": {},
   "outputs": [],
   "source": []
  }
 ],
 "metadata": {
  "kernelspec": {
   "display_name": "Python 3 (ipykernel)",
   "language": "python",
   "name": "python3"
  },
  "language_info": {
   "codemirror_mode": {
    "name": "ipython",
    "version": 3
   },
   "file_extension": ".py",
   "mimetype": "text/x-python",
   "name": "python",
   "nbconvert_exporter": "python",
   "pygments_lexer": "ipython3",
   "version": "3.9.7"
  }
 },
 "nbformat": 4,
 "nbformat_minor": 5
}
